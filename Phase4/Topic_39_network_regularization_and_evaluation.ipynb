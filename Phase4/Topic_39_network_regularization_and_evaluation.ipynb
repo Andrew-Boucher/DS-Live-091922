{
 "cells": [
  {
   "cell_type": "markdown",
   "metadata": {
    "slideshow": {
     "slide_type": "slide"
    }
   },
   "source": [
    "# Regularization and Evaluation of Neural Networks"
   ]
  },
  {
   "cell_type": "code",
   "execution_count": 2,
   "metadata": {},
   "outputs": [
    {
     "name": "stderr",
     "output_type": "stream",
     "text": [
      "/opt/anaconda3/envs/learn-env/lib/python3.8/site-packages/requests/__init__.py:89: RequestsDependencyWarning: urllib3 (1.26.13) or chardet (3.0.4) doesn't match a supported version!\n",
      "  warnings.warn(\"urllib3 ({}) or chardet ({}) doesn't match a supported \"\n"
     ]
    }
   ],
   "source": [
    "from sklearn.datasets import load_sample_images\n",
    "from sklearn.datasets import load_digits\n",
    "from sklearn.model_selection import train_test_split, cross_val_score\n",
    "from sklearn.preprocessing import OneHotEncoder\n",
    "from sklearn.metrics import accuracy_score, confusion_matrix\n",
    "import matplotlib.pyplot as plt\n",
    "import matplotlib.image as mpimg\n",
    "import numpy as np\n",
    "import seaborn as sns\n",
    "\n",
    "from tensorflow.keras.models import Sequential\n",
    "from tensorflow.keras.layers import Dense, Dropout\n",
    "from tensorflow.keras.regularizers import l2\n",
    "from tensorflow.keras.optimizers import SGD\n",
    "from tensorflow.keras.wrappers import scikit_learn\n",
    "from tensorflow.keras.callbacks import EarlyStopping\n",
    "\n",
    "import os\n",
    "import sys\n",
    "module_path = os.path.abspath(os.path.join(os.pardir, os.pardir))\n",
    "if module_path not in sys.path:\n",
    "    sys.path.append(module_path)\n",
    "    \n",
    "%load_ext autoreload\n",
    "%autoreload 2"
   ]
  },
  {
   "cell_type": "markdown",
   "metadata": {},
   "source": [
    "## Learning Objectives\n",
    "\n",
    "- use `keras` to code up a neural network model;\n",
    "- explain dropout and early stopping as distinctive forms of regularization in neural networks;\n",
    "- use wrappers inside `keras` to make models that can jibe with `sklearn`."
   ]
  },
  {
   "cell_type": "markdown",
   "metadata": {},
   "source": [
    "### From last time"
   ]
  },
  {
   "cell_type": "code",
   "execution_count": 5,
   "metadata": {},
   "outputs": [],
   "source": [
    "digits = load_digits()\n",
    "X = digits.data\n",
    "y = digits.target\n",
    "\n",
    "y_binary = y % 2"
   ]
  },
  {
   "cell_type": "code",
   "execution_count": 6,
   "metadata": {},
   "outputs": [
    {
     "name": "stdout",
     "output_type": "stream",
     "text": [
      "Epoch 1/50\n",
      "180/180 [==============================] - 0s 770us/step - loss: 0.5310 - accuracy: 0.7774\n",
      "Epoch 2/50\n",
      "180/180 [==============================] - 0s 826us/step - loss: 0.2765 - accuracy: 0.8926\n",
      "Epoch 3/50\n",
      "180/180 [==============================] - 0s 867us/step - loss: 0.2019 - accuracy: 0.9226\n",
      "Epoch 4/50\n",
      "180/180 [==============================] - 0s 861us/step - loss: 0.1691 - accuracy: 0.9388\n",
      "Epoch 5/50\n",
      "180/180 [==============================] - 0s 812us/step - loss: 0.1405 - accuracy: 0.9494\n",
      "Epoch 6/50\n",
      "180/180 [==============================] - 0s 855us/step - loss: 0.1251 - accuracy: 0.9533\n",
      "Epoch 7/50\n",
      "180/180 [==============================] - 0s 791us/step - loss: 0.1098 - accuracy: 0.9544\n",
      "Epoch 8/50\n",
      "180/180 [==============================] - 0s 830us/step - loss: 0.1023 - accuracy: 0.9583\n",
      "Epoch 9/50\n",
      "180/180 [==============================] - 0s 821us/step - loss: 0.0896 - accuracy: 0.9616\n",
      "Epoch 10/50\n",
      "180/180 [==============================] - 0s 872us/step - loss: 0.0859 - accuracy: 0.9649\n",
      "Epoch 11/50\n",
      "180/180 [==============================] - 0s 819us/step - loss: 0.0764 - accuracy: 0.9649\n",
      "Epoch 12/50\n",
      "180/180 [==============================] - 0s 786us/step - loss: 0.0720 - accuracy: 0.9683\n",
      "Epoch 13/50\n",
      "180/180 [==============================] - 0s 800us/step - loss: 0.0706 - accuracy: 0.9722\n",
      "Epoch 14/50\n",
      "180/180 [==============================] - 0s 751us/step - loss: 0.0607 - accuracy: 0.9727\n",
      "Epoch 15/50\n",
      "180/180 [==============================] - 0s 775us/step - loss: 0.0598 - accuracy: 0.9755\n",
      "Epoch 16/50\n",
      "180/180 [==============================] - 0s 780us/step - loss: 0.0567 - accuracy: 0.9766\n",
      "Epoch 17/50\n",
      "180/180 [==============================] - 0s 748us/step - loss: 0.0532 - accuracy: 0.9783\n",
      "Epoch 18/50\n",
      "180/180 [==============================] - 0s 813us/step - loss: 0.0511 - accuracy: 0.9789\n",
      "Epoch 19/50\n",
      "180/180 [==============================] - 0s 747us/step - loss: 0.0499 - accuracy: 0.9800\n",
      "Epoch 20/50\n",
      "180/180 [==============================] - 0s 767us/step - loss: 0.0466 - accuracy: 0.9816\n",
      "Epoch 21/50\n",
      "180/180 [==============================] - 0s 800us/step - loss: 0.0411 - accuracy: 0.9866\n",
      "Epoch 22/50\n",
      "180/180 [==============================] - 0s 760us/step - loss: 0.0418 - accuracy: 0.9822\n",
      "Epoch 23/50\n",
      "180/180 [==============================] - 0s 755us/step - loss: 0.0400 - accuracy: 0.9827\n",
      "Epoch 24/50\n",
      "180/180 [==============================] - 0s 805us/step - loss: 0.0358 - accuracy: 0.9889\n",
      "Epoch 25/50\n",
      "180/180 [==============================] - 0s 809us/step - loss: 0.0357 - accuracy: 0.9889\n",
      "Epoch 26/50\n",
      "180/180 [==============================] - 0s 811us/step - loss: 0.0306 - accuracy: 0.9894\n",
      "Epoch 27/50\n",
      "180/180 [==============================] - 0s 808us/step - loss: 0.0286 - accuracy: 0.9872\n",
      "Epoch 28/50\n",
      "180/180 [==============================] - 0s 789us/step - loss: 0.0297 - accuracy: 0.9872\n",
      "Epoch 29/50\n",
      "180/180 [==============================] - 0s 777us/step - loss: 0.0240 - accuracy: 0.9900\n",
      "Epoch 30/50\n",
      "180/180 [==============================] - 0s 836us/step - loss: 0.0259 - accuracy: 0.9905\n",
      "Epoch 31/50\n",
      "180/180 [==============================] - 0s 801us/step - loss: 0.0249 - accuracy: 0.9905\n",
      "Epoch 32/50\n",
      "180/180 [==============================] - 0s 796us/step - loss: 0.0217 - accuracy: 0.9933\n",
      "Epoch 33/50\n",
      "180/180 [==============================] - 0s 1ms/step - loss: 0.0221 - accuracy: 0.9917\n",
      "Epoch 34/50\n",
      "180/180 [==============================] - 0s 867us/step - loss: 0.0195 - accuracy: 0.9922\n",
      "Epoch 35/50\n",
      "180/180 [==============================] - 0s 918us/step - loss: 0.0219 - accuracy: 0.9911\n",
      "Epoch 36/50\n",
      "180/180 [==============================] - 0s 862us/step - loss: 0.0154 - accuracy: 0.9944\n",
      "Epoch 37/50\n",
      "180/180 [==============================] - 0s 810us/step - loss: 0.0169 - accuracy: 0.9944\n",
      "Epoch 38/50\n",
      "180/180 [==============================] - 0s 893us/step - loss: 0.0142 - accuracy: 0.9961\n",
      "Epoch 39/50\n",
      "180/180 [==============================] - 0s 831us/step - loss: 0.0160 - accuracy: 0.9922\n",
      "Epoch 40/50\n",
      "180/180 [==============================] - 0s 883us/step - loss: 0.0150 - accuracy: 0.9933\n",
      "Epoch 41/50\n",
      "180/180 [==============================] - 0s 877us/step - loss: 0.0135 - accuracy: 0.9961\n",
      "Epoch 42/50\n",
      "180/180 [==============================] - 0s 805us/step - loss: 0.0136 - accuracy: 0.9961\n",
      "Epoch 43/50\n",
      "180/180 [==============================] - 0s 904us/step - loss: 0.0126 - accuracy: 0.9950\n",
      "Epoch 44/50\n",
      "180/180 [==============================] - 0s 840us/step - loss: 0.0119 - accuracy: 0.9972\n",
      "Epoch 45/50\n",
      "180/180 [==============================] - 0s 871us/step - loss: 0.0115 - accuracy: 0.9961\n",
      "Epoch 46/50\n",
      "180/180 [==============================] - 0s 963us/step - loss: 0.0103 - accuracy: 0.9972\n",
      "Epoch 47/50\n",
      "180/180 [==============================] - 0s 823us/step - loss: 0.0117 - accuracy: 0.9967\n",
      "Epoch 48/50\n",
      "180/180 [==============================] - 0s 792us/step - loss: 0.0097 - accuracy: 0.9961\n",
      "Epoch 49/50\n",
      "180/180 [==============================] - 0s 813us/step - loss: 0.0102 - accuracy: 0.9967\n",
      "Epoch 50/50\n",
      "180/180 [==============================] - 0s 895us/step - loss: 0.0078 - accuracy: 0.9983\n"
     ]
    },
    {
     "data": {
      "text/plain": [
       "<tensorflow.python.keras.callbacks.History at 0x7fa7390925b0>"
      ]
     },
     "execution_count": 6,
     "metadata": {},
     "output_type": "execute_result"
    }
   ],
   "source": [
    "model = Sequential()\n",
    "model.add(Dense(12, activation='relu', input_dim=64))\n",
    "model.add(Dense(8, activation='relu'))\n",
    "model.add(Dense(1, activation='sigmoid'))\n",
    "\n",
    "model.compile(optimizer='rmsprop',\n",
    "              loss='binary_crossentropy',\n",
    "              metrics=['accuracy'])\n",
    "\n",
    "model.fit(X, y_binary, epochs=50, batch_size=10)"
   ]
  },
  {
   "cell_type": "markdown",
   "metadata": {},
   "source": [
    "### Things to know:\n",
    "\n",
    "- The data and labels in `fit()` need to be numpy arrays, not `pandas` dfs.\n",
    "- Scaling your data will have a large impact on your model.\n",
    "   > For our traditional input features, we would use a scaler object. For images, as long as the minimum value is 0, we can simply divide through by the maximum pixel intensity."
   ]
  },
  {
   "cell_type": "markdown",
   "metadata": {},
   "source": [
    "#### Getting data ready for modeling\n",
    "**Preprocessing**:\n",
    "\n",
    "- use train_test_split to create X_train, y_train, X_test, and y_test\n",
    "- Split training data into pure_train and validation sets.\n",
    "- Scale the pixel intensity to a value between 0 and 1."
   ]
  },
  {
   "cell_type": "markdown",
   "metadata": {},
   "source": [
    "Scaling our input variables will help speed up our neural network.\n",
    "\n",
    "Since our minimum intensity is 0, we can normalize the inputs by dividing each value by the max value (16)."
   ]
  },
  {
   "cell_type": "code",
   "execution_count": 7,
   "metadata": {},
   "outputs": [],
   "source": [
    "X_train, X_test, y_train, y_test =\\\n",
    "    train_test_split(X, y_binary, random_state=42, test_size=0.2)\n",
    "\n",
    "X_pure_train, X_val, y_pure_train, y_val =\\\n",
    "    train_test_split(X_train, y_train, random_state=42, test_size=0.2)\n",
    "\n",
    "X_pure_train, X_val, X_test = X_pure_train/16, X_val/16, X_test/16"
   ]
  },
  {
   "cell_type": "code",
   "execution_count": 9,
   "metadata": {},
   "outputs": [
    {
     "data": {
      "text/plain": [
       "(1149, 64)"
      ]
     },
     "execution_count": 9,
     "metadata": {},
     "output_type": "execute_result"
    }
   ],
   "source": [
    "X_pure_train.shape"
   ]
  },
  {
   "cell_type": "markdown",
   "metadata": {},
   "source": [
    "For activation, let's start with the familiar sigmoid function, and see how it performs."
   ]
  },
  {
   "cell_type": "code",
   "execution_count": 8,
   "metadata": {},
   "outputs": [
    {
     "name": "stdout",
     "output_type": "stream",
     "text": [
      "Epoch 1/10\n",
      "12/12 [==============================] - 0s 753us/step - loss: 0.7078 - accuracy: 0.4961\n",
      "Epoch 2/10\n",
      "12/12 [==============================] - 0s 1ms/step - loss: 0.7046 - accuracy: 0.4961\n",
      "Epoch 3/10\n",
      "12/12 [==============================] - 0s 861us/step - loss: 0.7019 - accuracy: 0.4961\n",
      "Epoch 4/10\n",
      "12/12 [==============================] - 0s 1ms/step - loss: 0.6998 - accuracy: 0.4961\n",
      "Epoch 5/10\n",
      "12/12 [==============================] - 0s 895us/step - loss: 0.6982 - accuracy: 0.4961\n",
      "Epoch 6/10\n",
      "12/12 [==============================] - 0s 986us/step - loss: 0.6969 - accuracy: 0.4961\n",
      "Epoch 7/10\n",
      "12/12 [==============================] - 0s 844us/step - loss: 0.6959 - accuracy: 0.4961\n",
      "Epoch 8/10\n",
      "12/12 [==============================] - 0s 796us/step - loss: 0.6951 - accuracy: 0.4961\n",
      "Epoch 9/10\n",
      "12/12 [==============================] - 0s 1ms/step - loss: 0.6945 - accuracy: 0.4961\n",
      "Epoch 10/10\n",
      "12/12 [==============================] - 0s 816us/step - loss: 0.6941 - accuracy: 0.4961\n"
     ]
    }
   ],
   "source": [
    "model = Sequential()\n",
    "# We will start with our trusty sigmoid function.\n",
    "# What does input dimension correspond to?\n",
    "model.add(Dense(12, activation='sigmoid', input_dim=64))\n",
    "model.add(Dense(8, activation='sigmoid'))\n",
    "model.add(Dense(1, activation='sigmoid'))\n",
    "\n",
    "model.compile(optimizer='SGD' ,\n",
    "              # We use binary_crossentropy for a binary loss function\n",
    "              loss='binary_crossentropy',\n",
    "              metrics=['accuracy'])\n",
    "\n",
    "# Assign the variable history to store the results,\n",
    "# and set verbose=1 so we can see the output. To see\n",
    "# only the metrics at the end of each epoch, set verbose=2.\n",
    "results = model.fit(X_pure_train, y_pure_train, epochs=10, batch_size=100, verbose=1)"
   ]
  },
  {
   "cell_type": "markdown",
   "metadata": {},
   "source": [
    "We can access the history of our model via `results.history`.\n",
    "Use __dict__ to take a tour."
   ]
  },
  {
   "cell_type": "code",
   "execution_count": 10,
   "metadata": {},
   "outputs": [
    {
     "data": {
      "text/plain": [
       "{'validation_data': None,\n",
       " 'model': <tensorflow.python.keras.engine.sequential.Sequential at 0x7fa732271a00>,\n",
       " '_chief_worker_only': None,\n",
       " '_supports_tf_logs': False,\n",
       " 'history': {'loss': [0.7078335881233215,\n",
       "   0.7045684456825256,\n",
       "   0.701851487159729,\n",
       "   0.6997787952423096,\n",
       "   0.698196291923523,\n",
       "   0.6968908905982971,\n",
       "   0.695915699005127,\n",
       "   0.695063591003418,\n",
       "   0.694491982460022,\n",
       "   0.6940781474113464],\n",
       "  'accuracy': [0.4960835576057434,\n",
       "   0.4960835576057434,\n",
       "   0.4960835576057434,\n",
       "   0.4960835576057434,\n",
       "   0.4960835576057434,\n",
       "   0.4960835576057434,\n",
       "   0.4960835576057434,\n",
       "   0.4960835576057434,\n",
       "   0.4960835576057434,\n",
       "   0.4960835576057434]},\n",
       " 'params': {'verbose': 1, 'epochs': 10, 'steps': 12},\n",
       " 'epoch': [0, 1, 2, 3, 4, 5, 6, 7, 8, 9]}"
      ]
     },
     "execution_count": 10,
     "metadata": {},
     "output_type": "execute_result"
    }
   ],
   "source": [
    "results.__dict__"
   ]
  },
  {
   "cell_type": "code",
   "execution_count": 11,
   "metadata": {},
   "outputs": [
    {
     "data": {
      "image/png": "[encoded data removed]",
      "text/plain": [
       "<Figure size 720x360 with 2 Axes>"
      ]
     },
     "metadata": {
      "needs_background": "light"
     },
     "output_type": "display_data"
    }
   ],
   "source": [
    "sigmoid_loss = results.history['loss']\n",
    "sigmoid_accuracy = results.history['accuracy']\n",
    "\n",
    "fig, (ax1, ax2) = plt.subplots(1, 2, figsize=(10, 5))\n",
    "sns.lineplot(x=results.epoch, y=sigmoid_loss, ax=ax1, label='loss')\n",
    "sns.lineplot(x=results.epoch, y=sigmoid_accuracy, ax=ax2, label='accuracy');"
   ]
  },
  {
   "cell_type": "markdown",
   "metadata": {},
   "source": [
    "We have two plots above both relating to the quality of our model.  The left-hand plot is our loss. It uses the probabilities associated with our predictions to judge how well our prediction fits reality. We want it to decrease as far as possible.\n",
    "\n",
    "The accuracy judges how well the predictions are after applying the threshold at the output layer.  We want accuracy to increase."
   ]
  },
  {
   "cell_type": "markdown",
   "metadata": {},
   "source": [
    "If we look at our loss, it is still decreasing. That is a signal that our model is **still learning**. If our model is still learning, we can allow it to get better by turning a few dials.\n",
    "\n",
    "Let's:\n",
    "- increase the number of epochs;\n",
    "- change sigmoid activation in the hidden layers to ReLU; and\n",
    "- decrease the batch size."
   ]
  },
  {
   "cell_type": "code",
   "execution_count": 12,
   "metadata": {},
   "outputs": [
    {
     "data": {
      "text/plain": [
       "1149"
      ]
     },
     "execution_count": 12,
     "metadata": {},
     "output_type": "execute_result"
    }
   ],
   "source": [
    "X_pure_train.shape[0]"
   ]
  },
  {
   "cell_type": "code",
   "execution_count": 18,
   "metadata": {},
   "outputs": [
    {
     "name": "stdout",
     "output_type": "stream",
     "text": [
      "Epoch 1/100\n",
      "23/23 [==============================] - 0s 901us/step - loss: 0.6966 - accuracy: 0.4473\n",
      "Epoch 2/100\n",
      "23/23 [==============================] - 0s 897us/step - loss: 0.6897 - accuracy: 0.5265\n",
      "Epoch 3/100\n",
      "23/23 [==============================] - 0s 834us/step - loss: 0.6831 - accuracy: 0.6101\n",
      "Epoch 4/100\n",
      "23/23 [==============================] - 0s 899us/step - loss: 0.6773 - accuracy: 0.6789\n",
      "Epoch 5/100\n",
      "23/23 [==============================] - 0s 881us/step - loss: 0.6728 - accuracy: 0.7006\n",
      "Epoch 6/100\n",
      "23/23 [==============================] - 0s 896us/step - loss: 0.6688 - accuracy: 0.7206\n",
      "Epoch 7/100\n",
      "23/23 [==============================] - 0s 953us/step - loss: 0.6648 - accuracy: 0.7241\n",
      "Epoch 8/100\n",
      "23/23 [==============================] - 0s 879us/step - loss: 0.6606 - accuracy: 0.7398\n",
      "Epoch 9/100\n",
      "23/23 [==============================] - 0s 757us/step - loss: 0.6562 - accuracy: 0.7467\n",
      "Epoch 10/100\n",
      "23/23 [==============================] - 0s 957us/step - loss: 0.6513 - accuracy: 0.7476\n",
      "Epoch 11/100\n",
      "23/23 [==============================] - 0s 842us/step - loss: 0.6459 - accuracy: 0.7607\n",
      "Epoch 12/100\n",
      "23/23 [==============================] - 0s 747us/step - loss: 0.6401 - accuracy: 0.7659\n",
      "Epoch 13/100\n",
      "23/23 [==============================] - 0s 956us/step - loss: 0.6335 - accuracy: 0.7702\n",
      "Epoch 14/100\n",
      "23/23 [==============================] - 0s 900us/step - loss: 0.6265 - accuracy: 0.7763\n",
      "Epoch 15/100\n",
      "23/23 [==============================] - 0s 813us/step - loss: 0.6186 - accuracy: 0.7876\n",
      "Epoch 16/100\n",
      "23/23 [==============================] - 0s 1ms/step - loss: 0.6098 - accuracy: 0.7885\n",
      "Epoch 17/100\n",
      "23/23 [==============================] - 0s 1ms/step - loss: 0.6002 - accuracy: 0.7955\n",
      "Epoch 18/100\n",
      "23/23 [==============================] - 0s 1ms/step - loss: 0.5901 - accuracy: 0.8016\n",
      "Epoch 19/100\n",
      "23/23 [==============================] - 0s 984us/step - loss: 0.5787 - accuracy: 0.8077\n",
      "Epoch 20/100\n",
      "23/23 [==============================] - 0s 863us/step - loss: 0.5665 - accuracy: 0.8129\n",
      "Epoch 21/100\n",
      "23/23 [==============================] - 0s 938us/step - loss: 0.5537 - accuracy: 0.8233\n",
      "Epoch 22/100\n",
      "23/23 [==============================] - 0s 910us/step - loss: 0.5399 - accuracy: 0.8303\n",
      "Epoch 23/100\n",
      "23/23 [==============================] - 0s 857us/step - loss: 0.5256 - accuracy: 0.8329\n",
      "Epoch 24/100\n",
      "23/23 [==============================] - 0s 870us/step - loss: 0.5106 - accuracy: 0.8399\n",
      "Epoch 25/100\n",
      "23/23 [==============================] - 0s 920us/step - loss: 0.4954 - accuracy: 0.8407\n",
      "Epoch 26/100\n",
      "23/23 [==============================] - 0s 1ms/step - loss: 0.4800 - accuracy: 0.8399\n",
      "Epoch 27/100\n",
      "23/23 [==============================] - 0s 991us/step - loss: 0.4646 - accuracy: 0.8425\n",
      "Epoch 28/100\n",
      "23/23 [==============================] - 0s 1ms/step - loss: 0.4494 - accuracy: 0.8468\n",
      "Epoch 29/100\n",
      "23/23 [==============================] - 0s 1ms/step - loss: 0.4349 - accuracy: 0.8486\n",
      "Epoch 30/100\n",
      "23/23 [==============================] - 0s 874us/step - loss: 0.4207 - accuracy: 0.8529\n",
      "Epoch 31/100\n",
      "23/23 [==============================] - 0s 859us/step - loss: 0.4074 - accuracy: 0.8520\n",
      "Epoch 32/100\n",
      "23/23 [==============================] - 0s 851us/step - loss: 0.3949 - accuracy: 0.8547\n",
      "Epoch 33/100\n",
      "23/23 [==============================] - 0s 920us/step - loss: 0.3830 - accuracy: 0.8555\n",
      "Epoch 34/100\n",
      "23/23 [==============================] - 0s 883us/step - loss: 0.3721 - accuracy: 0.8607\n",
      "Epoch 35/100\n",
      "23/23 [==============================] - 0s 793us/step - loss: 0.3620 - accuracy: 0.8616\n",
      "Epoch 36/100\n",
      "23/23 [==============================] - 0s 1ms/step - loss: 0.3518 - accuracy: 0.8695\n",
      "Epoch 37/100\n",
      "23/23 [==============================] - 0s 939us/step - loss: 0.3433 - accuracy: 0.8642\n",
      "Epoch 38/100\n",
      "23/23 [==============================] - 0s 881us/step - loss: 0.3351 - accuracy: 0.8721\n",
      "Epoch 39/100\n",
      "23/23 [==============================] - 0s 869us/step - loss: 0.3273 - accuracy: 0.8712\n",
      "Epoch 40/100\n",
      "23/23 [==============================] - 0s 1ms/step - loss: 0.3201 - accuracy: 0.8703\n",
      "Epoch 41/100\n",
      "23/23 [==============================] - 0s 1ms/step - loss: 0.3137 - accuracy: 0.8747\n",
      "Epoch 42/100\n",
      "23/23 [==============================] - 0s 1ms/step - loss: 0.3075 - accuracy: 0.8738\n",
      "Epoch 43/100\n",
      "23/23 [==============================] - 0s 975us/step - loss: 0.3016 - accuracy: 0.8747\n",
      "Epoch 44/100\n",
      "23/23 [==============================] - 0s 858us/step - loss: 0.2960 - accuracy: 0.8799\n",
      "Epoch 45/100\n",
      "23/23 [==============================] - 0s 895us/step - loss: 0.2909 - accuracy: 0.8842\n",
      "Epoch 46/100\n",
      "23/23 [==============================] - 0s 1ms/step - loss: 0.2864 - accuracy: 0.8851\n",
      "Epoch 47/100\n",
      "23/23 [==============================] - 0s 1ms/step - loss: 0.2819 - accuracy: 0.8877\n",
      "Epoch 48/100\n",
      "23/23 [==============================] - 0s 841us/step - loss: 0.2774 - accuracy: 0.8912\n",
      "Epoch 49/100\n",
      "23/23 [==============================] - 0s 923us/step - loss: 0.2731 - accuracy: 0.8869\n",
      "Epoch 50/100\n",
      "23/23 [==============================] - 0s 1ms/step - loss: 0.2696 - accuracy: 0.8921\n",
      "Epoch 51/100\n",
      "23/23 [==============================] - 0s 947us/step - loss: 0.2658 - accuracy: 0.8938\n",
      "Epoch 52/100\n",
      "23/23 [==============================] - 0s 1ms/step - loss: 0.2626 - accuracy: 0.8930\n",
      "Epoch 53/100\n",
      "23/23 [==============================] - 0s 732us/step - loss: 0.2587 - accuracy: 0.8947\n",
      "Epoch 54/100\n",
      "23/23 [==============================] - 0s 1ms/step - loss: 0.2562 - accuracy: 0.8964\n",
      "Epoch 55/100\n",
      "23/23 [==============================] - 0s 856us/step - loss: 0.2523 - accuracy: 0.9017\n",
      "Epoch 56/100\n",
      "23/23 [==============================] - 0s 780us/step - loss: 0.2505 - accuracy: 0.8999\n",
      "Epoch 57/100\n",
      "23/23 [==============================] - 0s 1ms/step - loss: 0.2474 - accuracy: 0.9034\n",
      "Epoch 58/100\n",
      "23/23 [==============================] - 0s 854us/step - loss: 0.2445 - accuracy: 0.9034\n",
      "Epoch 59/100\n",
      "23/23 [==============================] - 0s 827us/step - loss: 0.2424 - accuracy: 0.8999\n",
      "Epoch 60/100\n",
      "23/23 [==============================] - 0s 731us/step - loss: 0.2395 - accuracy: 0.8999\n",
      "Epoch 61/100\n",
      "23/23 [==============================] - 0s 826us/step - loss: 0.2372 - accuracy: 0.9034\n",
      "Epoch 62/100\n",
      "23/23 [==============================] - 0s 944us/step - loss: 0.2356 - accuracy: 0.9043\n",
      "Epoch 63/100\n",
      "23/23 [==============================] - 0s 843us/step - loss: 0.2328 - accuracy: 0.9060\n",
      "Epoch 64/100\n",
      "23/23 [==============================] - 0s 933us/step - loss: 0.2309 - accuracy: 0.9095\n",
      "Epoch 65/100\n",
      "23/23 [==============================] - 0s 801us/step - loss: 0.2290 - accuracy: 0.9051\n",
      "Epoch 66/100\n",
      "23/23 [==============================] - 0s 828us/step - loss: 0.2273 - accuracy: 0.9104\n",
      "Epoch 67/100\n",
      "23/23 [==============================] - 0s 823us/step - loss: 0.2251 - accuracy: 0.9095\n",
      "Epoch 68/100\n",
      "23/23 [==============================] - 0s 724us/step - loss: 0.2232 - accuracy: 0.9130\n",
      "Epoch 69/100\n",
      "23/23 [==============================] - 0s 933us/step - loss: 0.2215 - accuracy: 0.9086\n",
      "Epoch 70/100\n",
      "23/23 [==============================] - 0s 949us/step - loss: 0.2207 - accuracy: 0.9147\n",
      "Epoch 71/100\n",
      "23/23 [==============================] - 0s 806us/step - loss: 0.2189 - accuracy: 0.9104\n",
      "Epoch 72/100\n",
      "23/23 [==============================] - 0s 817us/step - loss: 0.2167 - accuracy: 0.9130\n",
      "Epoch 73/100\n",
      "23/23 [==============================] - 0s 831us/step - loss: 0.2156 - accuracy: 0.9138\n",
      "Epoch 74/100\n",
      "23/23 [==============================] - 0s 769us/step - loss: 0.2140 - accuracy: 0.9156\n",
      "Epoch 75/100\n",
      "23/23 [==============================] - 0s 823us/step - loss: 0.2129 - accuracy: 0.9147\n",
      "Epoch 76/100\n",
      "23/23 [==============================] - 0s 774us/step - loss: 0.2114 - accuracy: 0.9138\n",
      "Epoch 77/100\n",
      "23/23 [==============================] - 0s 787us/step - loss: 0.2102 - accuracy: 0.9164\n",
      "Epoch 78/100\n",
      "23/23 [==============================] - 0s 893us/step - loss: 0.2090 - accuracy: 0.9130\n",
      "Epoch 79/100\n",
      "23/23 [==============================] - 0s 957us/step - loss: 0.2078 - accuracy: 0.9130\n",
      "Epoch 80/100\n",
      "23/23 [==============================] - 0s 859us/step - loss: 0.2058 - accuracy: 0.9130\n",
      "Epoch 81/100\n"
     ]
    },
    {
     "name": "stdout",
     "output_type": "stream",
     "text": [
      "23/23 [==============================] - 0s 882us/step - loss: 0.2052 - accuracy: 0.9147\n",
      "Epoch 82/100\n",
      "23/23 [==============================] - 0s 1ms/step - loss: 0.2037 - accuracy: 0.9147\n",
      "Epoch 83/100\n",
      "23/23 [==============================] - 0s 955us/step - loss: 0.2028 - accuracy: 0.9156\n",
      "Epoch 84/100\n",
      "23/23 [==============================] - 0s 873us/step - loss: 0.2018 - accuracy: 0.9164\n",
      "Epoch 85/100\n",
      "23/23 [==============================] - 0s 970us/step - loss: 0.2005 - accuracy: 0.9138\n",
      "Epoch 86/100\n",
      "23/23 [==============================] - 0s 747us/step - loss: 0.1994 - accuracy: 0.9156\n",
      "Epoch 87/100\n",
      "23/23 [==============================] - 0s 914us/step - loss: 0.1992 - accuracy: 0.9138\n",
      "Epoch 88/100\n",
      "23/23 [==============================] - 0s 888us/step - loss: 0.1980 - accuracy: 0.9164\n",
      "Epoch 89/100\n",
      "23/23 [==============================] - 0s 915us/step - loss: 0.1968 - accuracy: 0.9173\n",
      "Epoch 90/100\n",
      "23/23 [==============================] - 0s 785us/step - loss: 0.1951 - accuracy: 0.9173\n",
      "Epoch 91/100\n",
      "23/23 [==============================] - 0s 928us/step - loss: 0.1952 - accuracy: 0.9164\n",
      "Epoch 92/100\n",
      "23/23 [==============================] - 0s 890us/step - loss: 0.1944 - accuracy: 0.9173\n",
      "Epoch 93/100\n",
      "23/23 [==============================] - 0s 807us/step - loss: 0.1931 - accuracy: 0.9173\n",
      "Epoch 94/100\n",
      "23/23 [==============================] - 0s 1ms/step - loss: 0.1928 - accuracy: 0.9182\n",
      "Epoch 95/100\n",
      "23/23 [==============================] - 0s 789us/step - loss: 0.1920 - accuracy: 0.9173\n",
      "Epoch 96/100\n",
      "23/23 [==============================] - 0s 833us/step - loss: 0.1915 - accuracy: 0.9191\n",
      "Epoch 97/100\n",
      "23/23 [==============================] - 0s 858us/step - loss: 0.1904 - accuracy: 0.9173\n",
      "Epoch 98/100\n",
      "23/23 [==============================] - 0s 732us/step - loss: 0.1889 - accuracy: 0.9173\n",
      "Epoch 99/100\n",
      "23/23 [==============================] - 0s 849us/step - loss: 0.1881 - accuracy: 0.9191\n",
      "Epoch 100/100\n",
      "23/23 [==============================] - 0s 817us/step - loss: 0.1878 - accuracy: 0.9182\n"
     ]
    }
   ],
   "source": [
    "model = Sequential()\n",
    "model.add(Dense(12, activation='relu', input_dim=64))\n",
    "model.add(Dense(8, activation='relu'))\n",
    "model.add(Dense(1, activation='sigmoid'))\n",
    "\n",
    "model.compile(optimizer='SGD',\n",
    "              loss='binary_crossentropy',\n",
    "              metrics=['accuracy'])\n",
    "\n",
    "# Assign the variable history to store the results,\n",
    "# and set verbose=1 so we can see the output.\n",
    "results = model.fit(X_pure_train, y_pure_train, epochs=100, batch_size=50, verbose=1)"
   ]
  },
  {
   "cell_type": "code",
   "execution_count": 19,
   "metadata": {},
   "outputs": [
    {
     "data": {
      "image/png": "[encoded data removed]",
      "text/plain": [
       "<Figure size 720x360 with 2 Axes>"
      ]
     },
     "metadata": {
      "needs_background": "light"
     },
     "output_type": "display_data"
    }
   ],
   "source": [
    "sigmoid_loss = results.history['loss']\n",
    "sigmoid_accuracy = results.history['accuracy']\n",
    "\n",
    "fig, (ax1, ax2) = plt.subplots(1, 2, figsize=(10, 5))\n",
    "sns.lineplot(x=results.epoch, y=sigmoid_loss, ax=ax1, label='loss')\n",
    "sns.lineplot(x=results.epoch, y=sigmoid_accuracy, ax=ax2, label='accuracy');"
   ]
  },
  {
   "cell_type": "markdown",
   "metadata": {},
   "source": [
    "If we increase the learning rate to a very high number, we see that our model overshoots the minimum, and starts bouncing all around."
   ]
  },
  {
   "cell_type": "code",
   "execution_count": 20,
   "metadata": {},
   "outputs": [
    {
     "name": "stdout",
     "output_type": "stream",
     "text": [
      "Epoch 1/30\n",
      "115/115 [==============================] - 0s 757us/step - loss: 1.1115 - accuracy: 0.4891\n",
      "Epoch 2/30\n",
      "115/115 [==============================] - 0s 724us/step - loss: 0.9850 - accuracy: 0.4961\n",
      "Epoch 3/30\n",
      "115/115 [==============================] - 0s 748us/step - loss: 0.9589 - accuracy: 0.5100\n",
      "Epoch 4/30\n",
      "115/115 [==============================] - 0s 697us/step - loss: 1.0108 - accuracy: 0.4856\n",
      "Epoch 5/30\n",
      "115/115 [==============================] - 0s 762us/step - loss: 0.9499 - accuracy: 0.5083\n",
      "Epoch 6/30\n",
      "115/115 [==============================] - 0s 702us/step - loss: 0.9446 - accuracy: 0.5152\n",
      "Epoch 7/30\n",
      "115/115 [==============================] - 0s 796us/step - loss: 1.0291 - accuracy: 0.4822\n",
      "Epoch 8/30\n",
      "115/115 [==============================] - 0s 827us/step - loss: 1.0668 - accuracy: 0.4883\n",
      "Epoch 9/30\n",
      "115/115 [==============================] - 0s 775us/step - loss: 0.9807 - accuracy: 0.4970\n",
      "Epoch 10/30\n",
      "115/115 [==============================] - 0s 776us/step - loss: 1.0037 - accuracy: 0.5022\n",
      "Epoch 11/30\n",
      "115/115 [==============================] - 0s 719us/step - loss: 0.9635 - accuracy: 0.5065\n",
      "Epoch 12/30\n",
      "115/115 [==============================] - 0s 726us/step - loss: 0.9915 - accuracy: 0.4996\n",
      "Epoch 13/30\n",
      "115/115 [==============================] - 0s 759us/step - loss: 1.0328 - accuracy: 0.4961\n",
      "Epoch 14/30\n",
      "115/115 [==============================] - 0s 802us/step - loss: 0.9958 - accuracy: 0.4987\n",
      "Epoch 15/30\n",
      "115/115 [==============================] - 0s 784us/step - loss: 1.0211 - accuracy: 0.4813\n",
      "Epoch 16/30\n",
      "115/115 [==============================] - 0s 830us/step - loss: 1.0227 - accuracy: 0.4952\n",
      "Epoch 17/30\n",
      "115/115 [==============================] - 0s 884us/step - loss: 0.9998 - accuracy: 0.5022\n",
      "Epoch 18/30\n",
      "115/115 [==============================] - 0s 793us/step - loss: 1.0172 - accuracy: 0.4943\n",
      "Epoch 19/30\n",
      "115/115 [==============================] - 0s 839us/step - loss: 1.0553 - accuracy: 0.4787\n",
      "Epoch 20/30\n",
      "115/115 [==============================] - 0s 747us/step - loss: 1.0004 - accuracy: 0.5013\n",
      "Epoch 21/30\n",
      "115/115 [==============================] - 0s 869us/step - loss: 0.9343 - accuracy: 0.5083\n",
      "Epoch 22/30\n",
      "115/115 [==============================] - 0s 660us/step - loss: 0.9796 - accuracy: 0.5057\n",
      "Epoch 23/30\n",
      "115/115 [==============================] - 0s 761us/step - loss: 1.0706 - accuracy: 0.5013\n",
      "Epoch 24/30\n",
      "115/115 [==============================] - 0s 794us/step - loss: 1.0411 - accuracy: 0.4804\n",
      "Epoch 25/30\n",
      "115/115 [==============================] - 0s 801us/step - loss: 0.9844 - accuracy: 0.5100\n",
      "Epoch 26/30\n",
      "115/115 [==============================] - 0s 731us/step - loss: 0.9813 - accuracy: 0.4987\n",
      "Epoch 27/30\n",
      "115/115 [==============================] - 0s 798us/step - loss: 1.0561 - accuracy: 0.4830\n",
      "Epoch 28/30\n",
      "115/115 [==============================] - 0s 809us/step - loss: 0.9678 - accuracy: 0.5126\n",
      "Epoch 29/30\n",
      "115/115 [==============================] - 0s 769us/step - loss: 1.0472 - accuracy: 0.4909\n",
      "Epoch 30/30\n",
      "115/115 [==============================] - 0s 764us/step - loss: 0.9578 - accuracy: 0.5100\n"
     ]
    },
    {
     "data": {
      "image/png": "[encoded data removed]",
      "text/plain": [
       "<Figure size 720x360 with 2 Axes>"
      ]
     },
     "metadata": {
      "needs_background": "light"
     },
     "output_type": "display_data"
    }
   ],
   "source": [
    "model = Sequential()\n",
    "\n",
    "sgd = SGD(learning_rate=9)\n",
    "model.add(Dense(12, activation='relu', input_dim=64))\n",
    "model.add(Dense(8, activation='relu'))\n",
    "model.add(Dense(1, activation='sigmoid'))\n",
    "\n",
    "model.compile(optimizer=sgd,\n",
    "              loss='binary_crossentropy',\n",
    "              metrics=['accuracy'])\n",
    "\n",
    "results = model.fit(X_pure_train, y_pure_train,\n",
    "                    epochs=30, batch_size=10, verbose=1)\n",
    "\n",
    "relu_loss = results.history['loss']\n",
    "relu_accuracy = results.history['accuracy']\n",
    "\n",
    "fig, (ax1, ax2) = plt.subplots(1, 2, figsize=(10, 5))\n",
    "sns.lineplot(x=results.epoch, y=relu_loss, ax=ax1, label='loss')\n",
    "sns.lineplot(x=results.epoch, y=relu_accuracy, ax=ax2, label='accuracy');"
   ]
  },
  {
   "cell_type": "markdown",
   "metadata": {},
   "source": [
    "### Exercise\n",
    "\n",
    "We have been looking only at our training set. Let's add in our validation set to the picture. Check the docstring for the `.fit()` method and add in our validation data."
   ]
  },
  {
   "cell_type": "code",
   "execution_count": 21,
   "metadata": {},
   "outputs": [
    {
     "name": "stdout",
     "output_type": "stream",
     "text": [
      "Epoch 1/30\n",
      "115/115 [==============================] - 0s 2ms/step - loss: 0.5711 - accuracy: 0.7476 - val_loss: 0.4718 - val_accuracy: 0.7847\n",
      "Epoch 2/30\n",
      "115/115 [==============================] - 0s 1ms/step - loss: 0.3774 - accuracy: 0.8555 - val_loss: 0.3276 - val_accuracy: 0.8611\n",
      "Epoch 3/30\n",
      "115/115 [==============================] - 0s 1ms/step - loss: 0.2836 - accuracy: 0.8877 - val_loss: 0.2669 - val_accuracy: 0.9062\n",
      "Epoch 4/30\n",
      "115/115 [==============================] - 0s 1ms/step - loss: 0.2278 - accuracy: 0.9043 - val_loss: 0.2155 - val_accuracy: 0.9201\n",
      "Epoch 5/30\n",
      "115/115 [==============================] - 0s 1ms/step - loss: 0.1937 - accuracy: 0.9234 - val_loss: 0.1807 - val_accuracy: 0.9340\n",
      "Epoch 6/30\n",
      "115/115 [==============================] - 0s 1ms/step - loss: 0.1702 - accuracy: 0.9278 - val_loss: 0.1767 - val_accuracy: 0.9271\n",
      "Epoch 7/30\n",
      "115/115 [==============================] - 0s 1ms/step - loss: 0.1505 - accuracy: 0.9356 - val_loss: 0.1482 - val_accuracy: 0.9479\n",
      "Epoch 8/30\n",
      "115/115 [==============================] - 0s 1ms/step - loss: 0.1350 - accuracy: 0.9495 - val_loss: 0.1348 - val_accuracy: 0.9479\n",
      "Epoch 9/30\n",
      "115/115 [==============================] - 0s 1ms/step - loss: 0.1191 - accuracy: 0.9495 - val_loss: 0.1253 - val_accuracy: 0.9514\n",
      "Epoch 10/30\n",
      "115/115 [==============================] - 0s 1ms/step - loss: 0.1139 - accuracy: 0.9539 - val_loss: 0.1169 - val_accuracy: 0.9549\n",
      "Epoch 11/30\n",
      "115/115 [==============================] - 0s 1ms/step - loss: 0.0970 - accuracy: 0.9634 - val_loss: 0.1130 - val_accuracy: 0.9583\n",
      "Epoch 12/30\n",
      "115/115 [==============================] - 0s 1ms/step - loss: 0.0875 - accuracy: 0.9678 - val_loss: 0.1170 - val_accuracy: 0.9583\n",
      "Epoch 13/30\n",
      "115/115 [==============================] - 0s 1ms/step - loss: 0.0782 - accuracy: 0.9721 - val_loss: 0.0975 - val_accuracy: 0.9618\n",
      "Epoch 14/30\n",
      "115/115 [==============================] - 0s 1ms/step - loss: 0.0745 - accuracy: 0.9721 - val_loss: 0.0991 - val_accuracy: 0.9583\n",
      "Epoch 15/30\n",
      "115/115 [==============================] - 0s 1ms/step - loss: 0.0725 - accuracy: 0.9739 - val_loss: 0.1014 - val_accuracy: 0.9618\n",
      "Epoch 16/30\n",
      "115/115 [==============================] - 0s 1ms/step - loss: 0.0658 - accuracy: 0.9748 - val_loss: 0.0988 - val_accuracy: 0.9618\n",
      "Epoch 17/30\n",
      "115/115 [==============================] - 0s 1ms/step - loss: 0.0580 - accuracy: 0.9817 - val_loss: 0.0873 - val_accuracy: 0.9618\n",
      "Epoch 18/30\n",
      "115/115 [==============================] - 0s 1ms/step - loss: 0.0539 - accuracy: 0.9817 - val_loss: 0.0922 - val_accuracy: 0.9618\n",
      "Epoch 19/30\n",
      "115/115 [==============================] - 0s 1ms/step - loss: 0.0512 - accuracy: 0.9835 - val_loss: 0.0796 - val_accuracy: 0.9583\n",
      "Epoch 20/30\n",
      "115/115 [==============================] - 0s 1ms/step - loss: 0.0445 - accuracy: 0.9878 - val_loss: 0.0770 - val_accuracy: 0.9653\n",
      "Epoch 21/30\n",
      "115/115 [==============================] - 0s 1ms/step - loss: 0.0439 - accuracy: 0.9869 - val_loss: 0.1016 - val_accuracy: 0.9653\n",
      "Epoch 22/30\n",
      "115/115 [==============================] - 0s 1ms/step - loss: 0.0400 - accuracy: 0.9852 - val_loss: 0.0700 - val_accuracy: 0.9688\n",
      "Epoch 23/30\n",
      "115/115 [==============================] - 0s 1ms/step - loss: 0.0389 - accuracy: 0.9878 - val_loss: 0.0927 - val_accuracy: 0.9688\n",
      "Epoch 24/30\n",
      "115/115 [==============================] - 0s 1ms/step - loss: 0.0356 - accuracy: 0.9861 - val_loss: 0.0819 - val_accuracy: 0.9688\n",
      "Epoch 25/30\n",
      "115/115 [==============================] - 0s 1ms/step - loss: 0.0384 - accuracy: 0.9852 - val_loss: 0.0714 - val_accuracy: 0.9688\n",
      "Epoch 26/30\n",
      "115/115 [==============================] - 0s 1ms/step - loss: 0.0342 - accuracy: 0.9887 - val_loss: 0.0748 - val_accuracy: 0.9653\n",
      "Epoch 27/30\n",
      "115/115 [==============================] - 0s 1ms/step - loss: 0.0306 - accuracy: 0.9913 - val_loss: 0.0679 - val_accuracy: 0.9653\n",
      "Epoch 28/30\n",
      "115/115 [==============================] - 0s 1ms/step - loss: 0.0283 - accuracy: 0.9922 - val_loss: 0.0667 - val_accuracy: 0.9688\n",
      "Epoch 29/30\n",
      "115/115 [==============================] - 0s 1ms/step - loss: 0.0246 - accuracy: 0.9922 - val_loss: 0.0691 - val_accuracy: 0.9757\n",
      "Epoch 30/30\n",
      "115/115 [==============================] - 0s 1ms/step - loss: 0.0223 - accuracy: 0.9948 - val_loss: 0.0678 - val_accuracy: 0.9653\n"
     ]
    },
    {
     "data": {
      "image/png": "[encoded data removed]",
      "text/plain": [
       "<Figure size 720x360 with 2 Axes>"
      ]
     },
     "metadata": {
      "needs_background": "light"
     },
     "output_type": "display_data"
    }
   ],
   "source": [
    "model = Sequential()\n",
    "model.add(Dense(12, activation='relu', input_dim=64))\n",
    "model.add(Dense(8, activation='relu'))\n",
    "model.add(Dense(4, activation='relu'))\n",
    "model.add(Dense(1, activation='sigmoid'))\n",
    "\n",
    "model.compile(optimizer='adam',\n",
    "              loss='binary_crossentropy',\n",
    "              metrics=['accuracy'])\n",
    "\n",
    "\n",
    "## YOUR CODE HERE\n",
    "results = model.fit(X_pure_train, y_pure_train, epochs=30, batch_size=10, verbose=1, validation_data=(X_val, y_val))\n",
    "\n",
    "\n",
    "train_loss = results.history['loss']\n",
    "train_acc = results.history['accuracy']\n",
    "val_loss = results.history['val_loss']\n",
    "val_acc = results.history['val_accuracy']\n",
    "\n",
    "fig, (ax1, ax2) = plt.subplots(1, 2, figsize=(10, 5))\n",
    "sns.lineplot(x=results.epoch, y=train_loss, ax=ax1, label='train_loss')\n",
    "sns.lineplot(x=results.epoch, y=train_acc, ax=ax2, label='train_accuracy')\n",
    "\n",
    "sns.lineplot(x=results.epoch, y=val_loss, ax=ax1, label='val_loss')\n",
    "sns.lineplot(x=results.epoch, y=val_acc, ax=ax2, label='val_accuracy');"
   ]
  },
  {
   "cell_type": "markdown",
   "metadata": {},
   "source": [
    "<details>\n",
    "    <summary>One answer here</summary>\n",
    "<code>model = Sequential()\n",
    "model.add(Dense(12, activation='relu', input_dim=64))\n",
    "model.add(Dense(8, activation='relu'))\n",
    "model.add(Dense(4, activation='relu'))\n",
    "model.add(Dense(1, activation='sigmoid'))\n",
    "model.compile(optimizer='adam',\n",
    "              loss='binary_crossentropy',\n",
    "              metrics=['accuracy'])\n",
    "results = model.fit(X_pure_train, y_pure_train,\n",
    "                   validation_data=(X_val, y_val),\n",
    "                   epochs=30, batch_size=10)\n",
    "train_loss = results.history['loss']\n",
    "train_acc = results.history['accuracy']\n",
    "val_loss = results.history['val_loss']\n",
    "val_acc = results.history['val_accuracy']\n",
    "fig, (ax1, ax2) = plt.subplots(1, 2, figsize=(10, 5))\n",
    "sns.lineplot(x=results.epoch, y=train_loss, ax=ax1, label='train_loss')\n",
    "sns.lineplot(x=results.epoch, y=train_acc, ax=ax2, label='train_accuracy')\n",
    "sns.lineplot(x=results.epoch, y=val_loss, ax=ax1, label='val_loss')\n",
    "sns.lineplot(x=results.epoch, y=val_acc, ax=ax2, label='val_accuracy');</code>\n",
    "</details>"
   ]
  },
  {
   "cell_type": "code",
   "execution_count": 22,
   "metadata": {},
   "outputs": [
    {
     "data": {
      "text/plain": [
       "0.9652777910232544"
      ]
     },
     "execution_count": 22,
     "metadata": {},
     "output_type": "execute_result"
    }
   ],
   "source": [
    "results.history['val_accuracy'][-1]"
   ]
  },
  {
   "cell_type": "markdown",
   "metadata": {},
   "source": [
    "## Connecting with `sklearn`\n",
    "\n",
    "The `keras.wrappers` submodule means that we can turn `keras` models into estimators that `sklearn` tools will recognize."
   ]
  },
  {
   "cell_type": "code",
   "execution_count": 23,
   "metadata": {},
   "outputs": [
    {
     "ename": "TypeError",
     "evalue": "If no scoring is specified, the estimator passed should have a 'score' method. The estimator <tensorflow.python.keras.engine.sequential.Sequential object at 0x7fa71c591760> does not.",
     "output_type": "error",
     "traceback": [
      "\u001b[0;31m---------------------------------------------------------------------------\u001b[0m",
      "\u001b[0;31mTypeError\u001b[0m                                 Traceback (most recent call last)",
      "\u001b[0;32m<ipython-input-23-440685741601>\u001b[0m in \u001b[0;36m<module>\u001b[0;34m\u001b[0m\n\u001b[1;32m      1\u001b[0m \u001b[0;31m# This will throw an error.\u001b[0m\u001b[0;34m\u001b[0m\u001b[0;34m\u001b[0m\u001b[0;34m\u001b[0m\u001b[0m\n\u001b[1;32m      2\u001b[0m \u001b[0;34m\u001b[0m\u001b[0m\n\u001b[0;32m----> 3\u001b[0;31m \u001b[0mcross_val_score\u001b[0m\u001b[0;34m(\u001b[0m\u001b[0mmodel\u001b[0m\u001b[0;34m,\u001b[0m \u001b[0mX_pure_train\u001b[0m\u001b[0;34m,\u001b[0m \u001b[0my_pure_train\u001b[0m\u001b[0;34m)\u001b[0m\u001b[0;34m\u001b[0m\u001b[0;34m\u001b[0m\u001b[0m\n\u001b[0m",
      "\u001b[0;32m/opt/anaconda3/envs/learn-env/lib/python3.8/site-packages/sklearn/utils/validation.py\u001b[0m in \u001b[0;36minner_f\u001b[0;34m(*args, **kwargs)\u001b[0m\n\u001b[1;32m     70\u001b[0m                           FutureWarning)\n\u001b[1;32m     71\u001b[0m         \u001b[0mkwargs\u001b[0m\u001b[0;34m.\u001b[0m\u001b[0mupdate\u001b[0m\u001b[0;34m(\u001b[0m\u001b[0;34m{\u001b[0m\u001b[0mk\u001b[0m\u001b[0;34m:\u001b[0m \u001b[0marg\u001b[0m \u001b[0;32mfor\u001b[0m \u001b[0mk\u001b[0m\u001b[0;34m,\u001b[0m \u001b[0marg\u001b[0m \u001b[0;32min\u001b[0m \u001b[0mzip\u001b[0m\u001b[0;34m(\u001b[0m\u001b[0msig\u001b[0m\u001b[0;34m.\u001b[0m\u001b[0mparameters\u001b[0m\u001b[0;34m,\u001b[0m \u001b[0margs\u001b[0m\u001b[0;34m)\u001b[0m\u001b[0;34m}\u001b[0m\u001b[0;34m)\u001b[0m\u001b[0;34m\u001b[0m\u001b[0;34m\u001b[0m\u001b[0m\n\u001b[0;32m---> 72\u001b[0;31m         \u001b[0;32mreturn\u001b[0m \u001b[0mf\u001b[0m\u001b[0;34m(\u001b[0m\u001b[0;34m**\u001b[0m\u001b[0mkwargs\u001b[0m\u001b[0;34m)\u001b[0m\u001b[0;34m\u001b[0m\u001b[0;34m\u001b[0m\u001b[0m\n\u001b[0m\u001b[1;32m     73\u001b[0m     \u001b[0;32mreturn\u001b[0m \u001b[0minner_f\u001b[0m\u001b[0;34m\u001b[0m\u001b[0;34m\u001b[0m\u001b[0m\n\u001b[1;32m     74\u001b[0m \u001b[0;34m\u001b[0m\u001b[0m\n",
      "\u001b[0;32m/opt/anaconda3/envs/learn-env/lib/python3.8/site-packages/sklearn/model_selection/_validation.py\u001b[0m in \u001b[0;36mcross_val_score\u001b[0;34m(estimator, X, y, groups, scoring, cv, n_jobs, verbose, fit_params, pre_dispatch, error_score)\u001b[0m\n\u001b[1;32m    397\u001b[0m     \"\"\"\n\u001b[1;32m    398\u001b[0m     \u001b[0;31m# To ensure multimetric format is not supported\u001b[0m\u001b[0;34m\u001b[0m\u001b[0;34m\u001b[0m\u001b[0;34m\u001b[0m\u001b[0m\n\u001b[0;32m--> 399\u001b[0;31m     \u001b[0mscorer\u001b[0m \u001b[0;34m=\u001b[0m \u001b[0mcheck_scoring\u001b[0m\u001b[0;34m(\u001b[0m\u001b[0mestimator\u001b[0m\u001b[0;34m,\u001b[0m \u001b[0mscoring\u001b[0m\u001b[0;34m=\u001b[0m\u001b[0mscoring\u001b[0m\u001b[0;34m)\u001b[0m\u001b[0;34m\u001b[0m\u001b[0;34m\u001b[0m\u001b[0m\n\u001b[0m\u001b[1;32m    400\u001b[0m \u001b[0;34m\u001b[0m\u001b[0m\n\u001b[1;32m    401\u001b[0m     cv_results = cross_validate(estimator=estimator, X=X, y=y, groups=groups,\n",
      "\u001b[0;32m/opt/anaconda3/envs/learn-env/lib/python3.8/site-packages/sklearn/utils/validation.py\u001b[0m in \u001b[0;36minner_f\u001b[0;34m(*args, **kwargs)\u001b[0m\n\u001b[1;32m     70\u001b[0m                           FutureWarning)\n\u001b[1;32m     71\u001b[0m         \u001b[0mkwargs\u001b[0m\u001b[0;34m.\u001b[0m\u001b[0mupdate\u001b[0m\u001b[0;34m(\u001b[0m\u001b[0;34m{\u001b[0m\u001b[0mk\u001b[0m\u001b[0;34m:\u001b[0m \u001b[0marg\u001b[0m \u001b[0;32mfor\u001b[0m \u001b[0mk\u001b[0m\u001b[0;34m,\u001b[0m \u001b[0marg\u001b[0m \u001b[0;32min\u001b[0m \u001b[0mzip\u001b[0m\u001b[0;34m(\u001b[0m\u001b[0msig\u001b[0m\u001b[0;34m.\u001b[0m\u001b[0mparameters\u001b[0m\u001b[0;34m,\u001b[0m \u001b[0margs\u001b[0m\u001b[0;34m)\u001b[0m\u001b[0;34m}\u001b[0m\u001b[0;34m)\u001b[0m\u001b[0;34m\u001b[0m\u001b[0;34m\u001b[0m\u001b[0m\n\u001b[0;32m---> 72\u001b[0;31m         \u001b[0;32mreturn\u001b[0m \u001b[0mf\u001b[0m\u001b[0;34m(\u001b[0m\u001b[0;34m**\u001b[0m\u001b[0mkwargs\u001b[0m\u001b[0;34m)\u001b[0m\u001b[0;34m\u001b[0m\u001b[0;34m\u001b[0m\u001b[0m\n\u001b[0m\u001b[1;32m     73\u001b[0m     \u001b[0;32mreturn\u001b[0m \u001b[0minner_f\u001b[0m\u001b[0;34m\u001b[0m\u001b[0;34m\u001b[0m\u001b[0m\n\u001b[1;32m     74\u001b[0m \u001b[0;34m\u001b[0m\u001b[0m\n",
      "\u001b[0;32m/opt/anaconda3/envs/learn-env/lib/python3.8/site-packages/sklearn/metrics/_scorer.py\u001b[0m in \u001b[0;36mcheck_scoring\u001b[0;34m(estimator, scoring, allow_none)\u001b[0m\n\u001b[1;32m    423\u001b[0m             \u001b[0;32mreturn\u001b[0m \u001b[0;32mNone\u001b[0m\u001b[0;34m\u001b[0m\u001b[0;34m\u001b[0m\u001b[0m\n\u001b[1;32m    424\u001b[0m         \u001b[0;32melse\u001b[0m\u001b[0;34m:\u001b[0m\u001b[0;34m\u001b[0m\u001b[0;34m\u001b[0m\u001b[0m\n\u001b[0;32m--> 425\u001b[0;31m             raise TypeError(\n\u001b[0m\u001b[1;32m    426\u001b[0m                 \u001b[0;34m\"If no scoring is specified, the estimator passed should \"\u001b[0m\u001b[0;34m\u001b[0m\u001b[0;34m\u001b[0m\u001b[0m\n\u001b[1;32m    427\u001b[0m                 \u001b[0;34m\"have a 'score' method. The estimator %r does not.\"\u001b[0m\u001b[0;34m\u001b[0m\u001b[0;34m\u001b[0m\u001b[0m\n",
      "\u001b[0;31mTypeError\u001b[0m: If no scoring is specified, the estimator passed should have a 'score' method. The estimator <tensorflow.python.keras.engine.sequential.Sequential object at 0x7fa71c591760> does not."
     ]
    }
   ],
   "source": [
    "# This will throw an error.\n",
    "\n",
    "cross_val_score(model, X_pure_train, y_pure_train)"
   ]
  },
  {
   "cell_type": "code",
   "execution_count": 24,
   "metadata": {},
   "outputs": [],
   "source": [
    "def build_model():\n",
    "    model = Sequential()\n",
    "    model.add(Dense(12, activation='relu', input_dim=64))\n",
    "    model.add(Dense(8, activation='relu'))\n",
    "    model.add(Dense(4, activation='relu'))\n",
    "    model.add(Dense(1, activation = 'sigmoid'))\n",
    "\n",
    "    model.compile(optimizer='adam',\n",
    "                  loss='binary_crossentropy',\n",
    "                  metrics=['accuracy'])\n",
    "    return model"
   ]
  },
  {
   "cell_type": "code",
   "execution_count": 25,
   "metadata": {},
   "outputs": [],
   "source": [
    "keras_model = scikit_learn.KerasClassifier(build_model,\n",
    "                                          epochs=50,\n",
    "                                          batch_size=32,\n",
    "                                          verbose=2)"
   ]
  },
  {
   "cell_type": "code",
   "execution_count": 26,
   "metadata": {},
   "outputs": [
    {
     "data": {
      "text/plain": [
       "tensorflow.python.keras.wrappers.scikit_learn.KerasClassifier"
      ]
     },
     "execution_count": 26,
     "metadata": {},
     "output_type": "execute_result"
    }
   ],
   "source": [
    "type(keras_model)"
   ]
  },
  {
   "cell_type": "code",
   "execution_count": 27,
   "metadata": {},
   "outputs": [
    {
     "name": "stdout",
     "output_type": "stream",
     "text": [
      "Epoch 1/50\n",
      "24/24 - 0s - loss: 0.7193 - accuracy: 0.5052\n",
      "Epoch 2/50\n",
      "24/24 - 0s - loss: 0.6905 - accuracy: 0.5287\n",
      "Epoch 3/50\n",
      "24/24 - 0s - loss: 0.6636 - accuracy: 0.6828\n",
      "Epoch 4/50\n",
      "24/24 - 0s - loss: 0.6154 - accuracy: 0.7480\n",
      "Epoch 5/50\n",
      "24/24 - 0s - loss: 0.5378 - accuracy: 0.7990\n",
      "Epoch 6/50\n",
      "24/24 - 0s - loss: 0.4483 - accuracy: 0.8303\n",
      "Epoch 7/50\n",
      "24/24 - 0s - loss: 0.3764 - accuracy: 0.8616\n",
      "Epoch 8/50\n",
      "24/24 - 0s - loss: 0.3209 - accuracy: 0.8825\n",
      "Epoch 9/50\n",
      "24/24 - 0s - loss: 0.2841 - accuracy: 0.8982\n",
      "Epoch 10/50\n",
      "24/24 - 0s - loss: 0.2572 - accuracy: 0.9073\n",
      "Epoch 11/50\n",
      "24/24 - 0s - loss: 0.2356 - accuracy: 0.9191\n",
      "Epoch 12/50\n",
      "24/24 - 0s - loss: 0.2185 - accuracy: 0.9191\n",
      "Epoch 13/50\n",
      "24/24 - 0s - loss: 0.2060 - accuracy: 0.9256\n",
      "Epoch 14/50\n",
      "24/24 - 0s - loss: 0.1997 - accuracy: 0.9191\n",
      "Epoch 15/50\n",
      "24/24 - 0s - loss: 0.1878 - accuracy: 0.9282\n",
      "Epoch 16/50\n",
      "24/24 - 0s - loss: 0.1790 - accuracy: 0.9308\n",
      "Epoch 17/50\n",
      "24/24 - 0s - loss: 0.1702 - accuracy: 0.9321\n",
      "Epoch 18/50\n",
      "24/24 - 0s - loss: 0.1630 - accuracy: 0.9386\n",
      "Epoch 19/50\n",
      "24/24 - 0s - loss: 0.1590 - accuracy: 0.9386\n",
      "Epoch 20/50\n",
      "24/24 - 0s - loss: 0.1473 - accuracy: 0.9399\n",
      "Epoch 21/50\n",
      "24/24 - 0s - loss: 0.1401 - accuracy: 0.9426\n",
      "Epoch 22/50\n",
      "24/24 - 0s - loss: 0.1392 - accuracy: 0.9439\n",
      "Epoch 23/50\n",
      "24/24 - 0s - loss: 0.1320 - accuracy: 0.9517\n",
      "Epoch 24/50\n",
      "24/24 - 0s - loss: 0.1256 - accuracy: 0.9517\n",
      "Epoch 25/50\n",
      "24/24 - 0s - loss: 0.1219 - accuracy: 0.9543\n",
      "Epoch 26/50\n",
      "24/24 - 0s - loss: 0.1137 - accuracy: 0.9608\n",
      "Epoch 27/50\n",
      "24/24 - 0s - loss: 0.1087 - accuracy: 0.9634\n",
      "Epoch 28/50\n",
      "24/24 - 0s - loss: 0.1038 - accuracy: 0.9661\n",
      "Epoch 29/50\n",
      "24/24 - 0s - loss: 0.1007 - accuracy: 0.9621\n",
      "Epoch 30/50\n",
      "24/24 - 0s - loss: 0.0962 - accuracy: 0.9687\n",
      "Epoch 31/50\n",
      "24/24 - 0s - loss: 0.0985 - accuracy: 0.9621\n",
      "Epoch 32/50\n",
      "24/24 - 0s - loss: 0.0893 - accuracy: 0.9687\n",
      "Epoch 33/50\n",
      "24/24 - 0s - loss: 0.0867 - accuracy: 0.9726\n",
      "Epoch 34/50\n",
      "24/24 - 0s - loss: 0.0852 - accuracy: 0.9661\n",
      "Epoch 35/50\n",
      "24/24 - 0s - loss: 0.0807 - accuracy: 0.9739\n",
      "Epoch 36/50\n",
      "24/24 - 0s - loss: 0.0774 - accuracy: 0.9804\n",
      "Epoch 37/50\n",
      "24/24 - 0s - loss: 0.0756 - accuracy: 0.9778\n",
      "Epoch 38/50\n",
      "24/24 - 0s - loss: 0.0790 - accuracy: 0.9765\n",
      "Epoch 39/50\n",
      "24/24 - 0s - loss: 0.0704 - accuracy: 0.9752\n",
      "Epoch 40/50\n",
      "24/24 - 0s - loss: 0.0665 - accuracy: 0.9843\n",
      "Epoch 41/50\n",
      "24/24 - 0s - loss: 0.0654 - accuracy: 0.9843\n",
      "Epoch 42/50\n",
      "24/24 - 0s - loss: 0.0643 - accuracy: 0.9817\n",
      "Epoch 43/50\n",
      "24/24 - 0s - loss: 0.0632 - accuracy: 0.9778\n",
      "Epoch 44/50\n",
      "24/24 - 0s - loss: 0.0594 - accuracy: 0.9830\n",
      "Epoch 45/50\n",
      "24/24 - 0s - loss: 0.0571 - accuracy: 0.9830\n",
      "Epoch 46/50\n",
      "24/24 - 0s - loss: 0.0560 - accuracy: 0.9830\n",
      "Epoch 47/50\n",
      "24/24 - 0s - loss: 0.0566 - accuracy: 0.9830\n",
      "Epoch 48/50\n",
      "24/24 - 0s - loss: 0.0541 - accuracy: 0.9830\n",
      "Epoch 49/50\n",
      "24/24 - 0s - loss: 0.0516 - accuracy: 0.9817\n",
      "Epoch 50/50\n",
      "24/24 - 0s - loss: 0.0504 - accuracy: 0.9830\n",
      "12/12 - 0s - loss: 0.1096 - accuracy: 0.9530\n",
      "Epoch 1/50\n",
      "24/24 - 0s - loss: 0.6771 - accuracy: 0.5131\n",
      "Epoch 2/50\n",
      "24/24 - 0s - loss: 0.6504 - accuracy: 0.5300\n",
      "Epoch 3/50\n",
      "24/24 - 0s - loss: 0.6171 - accuracy: 0.6514\n",
      "Epoch 4/50\n",
      "24/24 - 0s - loss: 0.5759 - accuracy: 0.7441\n",
      "Epoch 5/50\n",
      "24/24 - 0s - loss: 0.5375 - accuracy: 0.7977\n",
      "Epoch 6/50\n",
      "24/24 - 0s - loss: 0.5088 - accuracy: 0.8094\n",
      "Epoch 7/50\n",
      "24/24 - 0s - loss: 0.4805 - accuracy: 0.8577\n",
      "Epoch 8/50\n",
      "24/24 - 0s - loss: 0.4580 - accuracy: 0.8564\n",
      "Epoch 9/50\n",
      "24/24 - 0s - loss: 0.4390 - accuracy: 0.8812\n",
      "Epoch 10/50\n",
      "24/24 - 0s - loss: 0.4213 - accuracy: 0.8890\n",
      "Epoch 11/50\n",
      "24/24 - 0s - loss: 0.4054 - accuracy: 0.8969\n",
      "Epoch 12/50\n",
      "24/24 - 0s - loss: 0.3905 - accuracy: 0.8956\n",
      "Epoch 13/50\n",
      "24/24 - 0s - loss: 0.3758 - accuracy: 0.9164\n",
      "Epoch 14/50\n",
      "24/24 - 0s - loss: 0.3621 - accuracy: 0.9243\n",
      "Epoch 15/50\n",
      "24/24 - 0s - loss: 0.3513 - accuracy: 0.9308\n",
      "Epoch 16/50\n",
      "24/24 - 0s - loss: 0.3441 - accuracy: 0.9334\n",
      "Epoch 17/50\n",
      "24/24 - 0s - loss: 0.3315 - accuracy: 0.9373\n",
      "Epoch 18/50\n",
      "24/24 - 0s - loss: 0.3230 - accuracy: 0.9426\n",
      "Epoch 19/50\n",
      "24/24 - 0s - loss: 0.3144 - accuracy: 0.9413\n",
      "Epoch 20/50\n",
      "24/24 - 0s - loss: 0.3053 - accuracy: 0.9491\n",
      "Epoch 21/50\n",
      "24/24 - 0s - loss: 0.3002 - accuracy: 0.9504\n",
      "Epoch 22/50\n",
      "24/24 - 0s - loss: 0.2926 - accuracy: 0.9478\n",
      "Epoch 23/50\n",
      "24/24 - 0s - loss: 0.2838 - accuracy: 0.9582\n",
      "Epoch 24/50\n",
      "24/24 - 0s - loss: 0.2774 - accuracy: 0.9595\n",
      "Epoch 25/50\n",
      "24/24 - 0s - loss: 0.2715 - accuracy: 0.9608\n",
      "Epoch 26/50\n",
      "24/24 - 0s - loss: 0.2661 - accuracy: 0.9582\n",
      "Epoch 27/50\n",
      "24/24 - 0s - loss: 0.2596 - accuracy: 0.9674\n",
      "Epoch 28/50\n",
      "24/24 - 0s - loss: 0.2535 - accuracy: 0.9674\n",
      "Epoch 29/50\n",
      "24/24 - 0s - loss: 0.2483 - accuracy: 0.9661\n",
      "Epoch 30/50\n",
      "24/24 - 0s - loss: 0.2460 - accuracy: 0.9674\n",
      "Epoch 31/50\n",
      "24/24 - 0s - loss: 0.2417 - accuracy: 0.9765\n",
      "Epoch 32/50\n",
      "24/24 - 0s - loss: 0.2328 - accuracy: 0.9700\n",
      "Epoch 33/50\n",
      "24/24 - 0s - loss: 0.2290 - accuracy: 0.9713\n",
      "Epoch 34/50\n",
      "24/24 - 0s - loss: 0.2233 - accuracy: 0.9752\n",
      "Epoch 35/50\n",
      "24/24 - 0s - loss: 0.2209 - accuracy: 0.9726\n",
      "Epoch 36/50\n",
      "24/24 - 0s - loss: 0.2154 - accuracy: 0.9765\n",
      "Epoch 37/50\n",
      "24/24 - 0s - loss: 0.2120 - accuracy: 0.9752\n",
      "Epoch 38/50\n",
      "24/24 - 0s - loss: 0.2082 - accuracy: 0.9765\n",
      "Epoch 39/50\n",
      "24/24 - 0s - loss: 0.2006 - accuracy: 0.9804\n",
      "Epoch 40/50\n",
      "24/24 - 0s - loss: 0.1984 - accuracy: 0.9817\n",
      "Epoch 41/50\n",
      "24/24 - 0s - loss: 0.1926 - accuracy: 0.9830\n",
      "Epoch 42/50\n",
      "24/24 - 0s - loss: 0.1895 - accuracy: 0.9843\n",
      "Epoch 43/50\n",
      "24/24 - 0s - loss: 0.1847 - accuracy: 0.9843\n",
      "Epoch 44/50\n",
      "24/24 - 0s - loss: 0.1833 - accuracy: 0.9869\n",
      "Epoch 45/50\n",
      "24/24 - 0s - loss: 0.1783 - accuracy: 0.9909\n",
      "Epoch 46/50\n",
      "24/24 - 0s - loss: 0.1738 - accuracy: 0.9883\n",
      "Epoch 47/50\n",
      "24/24 - 0s - loss: 0.1693 - accuracy: 0.9909\n",
      "Epoch 48/50\n",
      "24/24 - 0s - loss: 0.1661 - accuracy: 0.9922\n",
      "Epoch 49/50\n",
      "24/24 - 0s - loss: 0.1619 - accuracy: 0.9935\n",
      "Epoch 50/50\n",
      "24/24 - 0s - loss: 0.1585 - accuracy: 0.9948\n",
      "12/12 - 0s - loss: 0.2211 - accuracy: 0.9634\n",
      "Epoch 1/50\n",
      "24/24 - 0s - loss: 0.6808 - accuracy: 0.5574\n",
      "Epoch 2/50\n",
      "24/24 - 0s - loss: 0.6397 - accuracy: 0.6488\n",
      "Epoch 3/50\n",
      "24/24 - 0s - loss: 0.5939 - accuracy: 0.7311\n",
      "Epoch 4/50\n",
      "24/24 - 0s - loss: 0.5472 - accuracy: 0.8003\n",
      "Epoch 5/50\n",
      "24/24 - 0s - loss: 0.4985 - accuracy: 0.8499\n",
      "Epoch 6/50\n",
      "24/24 - 0s - loss: 0.4493 - accuracy: 0.8668\n",
      "Epoch 7/50\n",
      "24/24 - 0s - loss: 0.3960 - accuracy: 0.8916\n",
      "Epoch 8/50\n",
      "24/24 - 0s - loss: 0.3384 - accuracy: 0.9008\n",
      "Epoch 9/50\n",
      "24/24 - 0s - loss: 0.2885 - accuracy: 0.9164\n",
      "Epoch 10/50\n",
      "24/24 - 0s - loss: 0.2465 - accuracy: 0.9243\n",
      "Epoch 11/50\n",
      "24/24 - 0s - loss: 0.2200 - accuracy: 0.9269\n",
      "Epoch 12/50\n",
      "24/24 - 0s - loss: 0.1991 - accuracy: 0.9321\n",
      "Epoch 13/50\n",
      "24/24 - 0s - loss: 0.1834 - accuracy: 0.9413\n",
      "Epoch 14/50\n",
      "24/24 - 0s - loss: 0.1733 - accuracy: 0.9360\n",
      "Epoch 15/50\n",
      "24/24 - 0s - loss: 0.1650 - accuracy: 0.9413\n",
      "Epoch 16/50\n",
      "24/24 - 0s - loss: 0.1565 - accuracy: 0.9491\n",
      "Epoch 17/50\n",
      "24/24 - 0s - loss: 0.1492 - accuracy: 0.9478\n",
      "Epoch 18/50\n",
      "24/24 - 0s - loss: 0.1385 - accuracy: 0.9504\n",
      "Epoch 19/50\n",
      "24/24 - 0s - loss: 0.1330 - accuracy: 0.9582\n",
      "Epoch 20/50\n",
      "24/24 - 0s - loss: 0.1338 - accuracy: 0.9491\n",
      "Epoch 21/50\n",
      "24/24 - 0s - loss: 0.1253 - accuracy: 0.9543\n",
      "Epoch 22/50\n",
      "24/24 - 0s - loss: 0.1171 - accuracy: 0.9608\n",
      "Epoch 23/50\n",
      "24/24 - 0s - loss: 0.1193 - accuracy: 0.9608\n",
      "Epoch 24/50\n",
      "24/24 - 0s - loss: 0.1114 - accuracy: 0.9556\n",
      "Epoch 25/50\n",
      "24/24 - 0s - loss: 0.1076 - accuracy: 0.9648\n",
      "Epoch 26/50\n",
      "24/24 - 0s - loss: 0.1052 - accuracy: 0.9634\n",
      "Epoch 27/50\n",
      "24/24 - 0s - loss: 0.1031 - accuracy: 0.9621\n",
      "Epoch 28/50\n",
      "24/24 - 0s - loss: 0.0983 - accuracy: 0.9608\n",
      "Epoch 29/50\n",
      "24/24 - 0s - loss: 0.0937 - accuracy: 0.9634\n",
      "Epoch 30/50\n",
      "24/24 - 0s - loss: 0.0891 - accuracy: 0.9661\n",
      "Epoch 31/50\n",
      "24/24 - 0s - loss: 0.0872 - accuracy: 0.9700\n",
      "Epoch 32/50\n",
      "24/24 - 0s - loss: 0.0844 - accuracy: 0.9687\n",
      "Epoch 33/50\n",
      "24/24 - 0s - loss: 0.0788 - accuracy: 0.9726\n",
      "Epoch 34/50\n",
      "24/24 - 0s - loss: 0.0781 - accuracy: 0.9713\n",
      "Epoch 35/50\n",
      "24/24 - 0s - loss: 0.0752 - accuracy: 0.9765\n",
      "Epoch 36/50\n",
      "24/24 - 0s - loss: 0.0719 - accuracy: 0.9739\n",
      "Epoch 37/50\n",
      "24/24 - 0s - loss: 0.0696 - accuracy: 0.9739\n",
      "Epoch 38/50\n",
      "24/24 - 0s - loss: 0.0679 - accuracy: 0.9804\n",
      "Epoch 39/50\n",
      "24/24 - 0s - loss: 0.0659 - accuracy: 0.9765\n",
      "Epoch 40/50\n",
      "24/24 - 0s - loss: 0.0652 - accuracy: 0.9739\n",
      "Epoch 41/50\n",
      "24/24 - 0s - loss: 0.0619 - accuracy: 0.9778\n",
      "Epoch 42/50\n",
      "24/24 - 0s - loss: 0.0576 - accuracy: 0.9804\n",
      "Epoch 43/50\n",
      "24/24 - 0s - loss: 0.0594 - accuracy: 0.9739\n"
     ]
    },
    {
     "name": "stdout",
     "output_type": "stream",
     "text": [
      "Epoch 44/50\n",
      "24/24 - 0s - loss: 0.0588 - accuracy: 0.9817\n",
      "Epoch 45/50\n",
      "24/24 - 0s - loss: 0.0533 - accuracy: 0.9843\n",
      "Epoch 46/50\n",
      "24/24 - 0s - loss: 0.0539 - accuracy: 0.9830\n",
      "Epoch 47/50\n",
      "24/24 - 0s - loss: 0.0506 - accuracy: 0.9843\n",
      "Epoch 48/50\n",
      "24/24 - 0s - loss: 0.0505 - accuracy: 0.9843\n",
      "Epoch 49/50\n",
      "24/24 - 0s - loss: 0.0469 - accuracy: 0.9843\n",
      "Epoch 50/50\n",
      "24/24 - 0s - loss: 0.0465 - accuracy: 0.9869\n",
      "12/12 - 0s - loss: 0.1108 - accuracy: 0.9530\n"
     ]
    },
    {
     "data": {
      "text/plain": [
       "array([0.95300263, 0.9634465 , 0.95300263])"
      ]
     },
     "execution_count": 27,
     "metadata": {},
     "output_type": "execute_result"
    }
   ],
   "source": [
    "# Can now cross_val\n",
    "cross_val_score(keras_model, X_pure_train, y_pure_train, cv=3)"
   ]
  },
  {
   "cell_type": "markdown",
   "metadata": {},
   "source": [
    "## Regularization"
   ]
  },
  {
   "cell_type": "markdown",
   "metadata": {},
   "source": [
    "Does regularization make sense in the context of neural networks? <br/>\n",
    "\n",
    "Yes! We still have all of the salient ingredients: a loss function, overfitting vs. underfitting, and coefficients (weights) that could get too large.\n",
    "\n",
    "But there are now a few different flavors besides L1 and L2 regularization. (Note that L1 regularization is not common in the context of  neural networks.)\n",
    "\n",
    "We'll add a few more layers to give regularization a better chance of making a difference!"
   ]
  },
  {
   "cell_type": "code",
   "execution_count": 28,
   "metadata": {},
   "outputs": [
    {
     "data": {
      "image/png": "[encoded data removed]",
      "text/plain": [
       "<Figure size 720x360 with 2 Axes>"
      ]
     },
     "metadata": {
      "needs_background": "light"
     },
     "output_type": "display_data"
    }
   ],
   "source": [
    "model = Sequential()\n",
    "model.add(Dense(30, activation='relu', input_dim=64))\n",
    "\n",
    "# We can add L2 (or L1) regularization right into\n",
    "# the layer with the kernel_regularizer parameter.\n",
    "\n",
    "model.add(Dense(20, activation='relu', kernel_regularizer=l2(0.05)))\n",
    "\n",
    "# Note that there is also a bias_regularizer,\n",
    "# but this tends to have less effect.\n",
    "\n",
    "model.add(Dense(12, activation='relu'))\n",
    "model.add(Dense(12, activation='relu'))\n",
    "model.add(Dense(12, activation='relu'))\n",
    "model.add(Dense(8, activation='relu'))\n",
    "model.add(Dense(4, activation='relu'))\n",
    "model.add(Dense(1, activation ='sigmoid'))\n",
    "\n",
    "model.compile(optimizer='adam',\n",
    "              loss='binary_crossentropy',\n",
    "              metrics=['accuracy'])\n",
    "\n",
    "results = model.fit(X_pure_train, y_pure_train, epochs=20, batch_size=32,\n",
    "                    verbose=0, validation_data=(X_val, y_val))\n",
    "\n",
    "train_loss = results.history['loss']\n",
    "train_acc = results.history['accuracy']\n",
    "val_loss = results.history['val_loss']\n",
    "val_acc = results.history['val_accuracy']\n",
    "\n",
    "\n",
    "fig, (ax1, ax2) = plt.subplots(1, 2, figsize=(10, 5))\n",
    "sns.lineplot(x=results.epoch, y=train_loss, ax=ax1, label='train_loss')\n",
    "sns.lineplot(x=results.epoch, y=train_acc, ax=ax2, label='train_accuracy')\n",
    "\n",
    "sns.lineplot(x=results.epoch, y=val_loss, ax=ax1, label='val_loss')\n",
    "sns.lineplot(x=results.epoch, y=val_acc, ax=ax2, label='val_accuracy');"
   ]
  },
  {
   "cell_type": "markdown",
   "metadata": {},
   "source": [
    "Adding L2 to multiple layers:"
   ]
  },
  {
   "cell_type": "code",
   "execution_count": 30,
   "metadata": {},
   "outputs": [
    {
     "data": {
      "image/png": "[encoded data removed]",
      "text/plain": [
       "<Figure size 720x360 with 2 Axes>"
      ]
     },
     "metadata": {
      "needs_background": "light"
     },
     "output_type": "display_data"
    }
   ],
   "source": [
    "model = Sequential()\n",
    "model.add(Dense(30, activation='relu',\n",
    "                input_dim=64))\n",
    "model.add(Dense(20, activation='relu',\n",
    "                kernel_regularizer=l2(l2=0.01)))\n",
    "\n",
    "model.add(Dense(12, activation='relu',\n",
    "                kernel_regularizer=l2(l2=0.01)))\n",
    "model.add(Dense(12, activation='relu',\n",
    "                kernel_regularizer=l2(l2=0.01)))\n",
    "model.add(Dense(12, activation='relu',\n",
    "                kernel_regularizer=l2(l2=0.01)))\n",
    "model.add(Dense(8, activation='relu',\n",
    "                kernel_regularizer=l2(l2=0.01)))\n",
    "model.add(Dense(4, activation='relu',\n",
    "                kernel_regularizer=l2(l2=0.01)))\n",
    "model.add(Dense(1, activation='sigmoid'))\n",
    "\n",
    "model.compile(optimizer='adam',\n",
    "              loss='binary_crossentropy',\n",
    "              metrics=['accuracy'])\n",
    "\n",
    "results = model.fit(X_pure_train, y_pure_train, epochs=20, batch_size=32,\n",
    "                    verbose=0, validation_data=(X_val, y_val))\n",
    "\n",
    "train_loss = results.history['loss']\n",
    "train_acc = results.history['accuracy']\n",
    "val_loss = results.history['val_loss']\n",
    "val_acc = results.history['val_accuracy']\n",
    "\n",
    "\n",
    "fig, (ax1, ax2) = plt.subplots(1, 2, figsize=(10, 5))\n",
    "sns.lineplot(x=results.epoch, y=train_loss, ax=ax1, label='train_loss')\n",
    "sns.lineplot(x=results.epoch, y=train_acc, ax=ax2, label='train_accuracy')\n",
    "\n",
    "sns.lineplot(x=results.epoch, y=val_loss, ax=ax1, label='val_loss')\n",
    "sns.lineplot(x=results.epoch, y=val_acc, ax=ax2, label='val_accuracy');"
   ]
  },
  {
   "cell_type": "markdown",
   "metadata": {},
   "source": [
    "### Dropout\n",
    "\n",
    "We can also specify a dropout layer in keras, which randomly shuts off different nodes during training. This can help to prevent overfitting.\n",
    "\n",
    "![drop_out](images/drop_out.png)"
   ]
  },
  {
   "cell_type": "markdown",
   "metadata": {},
   "source": [
    "### Exercise\n",
    "\n",
    "To add dropout to a `keras` network, simply add it as though it were a layer. It will apply to the immediately preceding layer.\n",
    "\n",
    "Add Dropout to one or more layers below."
   ]
  },
  {
   "cell_type": "code",
   "execution_count": 32,
   "metadata": {},
   "outputs": [
    {
     "data": {
      "image/png": "[encoded data removed]",
      "text/plain": [
       "<Figure size 720x360 with 2 Axes>"
      ]
     },
     "metadata": {
      "needs_background": "light"
     },
     "output_type": "display_data"
    }
   ],
   "source": [
    "model = Sequential()\n",
    "model.add(Dense(30, activation='relu', input_dim=64))\n",
    "model.add(Dense(20, activation='relu'))\n",
    "model.add(Dropout(0.5))\n",
    "model.add(Dense(12, activation='relu'))\n",
    "model.add(Dropout(0.5))\n",
    "model.add(Dense(12, activation='relu'))\n",
    "model.add(Dense(12, activation='relu'))\n",
    "model.add(Dense(8, activation='relu'))\n",
    "model.add(Dense(4, activation='relu'))\n",
    "model.add(Dense(1, activation ='sigmoid'))\n",
    "\n",
    "model.compile(optimizer='adam',\n",
    "              loss='binary_crossentropy',\n",
    "              metrics=['accuracy'])\n",
    "\n",
    "results = model.fit(X_pure_train, y_pure_train, epochs=50,\n",
    "                    batch_size= 32, verbose=0,\n",
    "                    validation_data=(X_val, y_val))\n",
    "\n",
    "train_loss = results.history['loss']\n",
    "train_acc = results.history['accuracy']\n",
    "val_loss = results.history['val_loss']\n",
    "val_acc = results.history['val_accuracy']\n",
    "\n",
    "\n",
    "fig, (ax1, ax2) = plt.subplots(1, 2, figsize=(10, 5))\n",
    "sns.lineplot(x=results.epoch, y=train_loss, ax=ax1, label='train_loss')\n",
    "sns.lineplot(x=results.epoch, y=train_acc, ax=ax2, label='train_accuracy')\n",
    "\n",
    "sns.lineplot(x=results.epoch, y=val_loss, ax=ax1, label='val_loss')\n",
    "sns.lineplot(x=results.epoch, y=val_acc, ax=ax2, label='val_accuracy');"
   ]
  },
  {
   "cell_type": "markdown",
   "metadata": {},
   "source": [
    "<details>\n",
    "    <summary>One answer here</summary>\n",
    "<code>model = Sequential()\n",
    "model.add(Dense(30, activation='relu', input_dim=64))\n",
    "model.add(Dense(20, activation='relu'))\n",
    "model.add(Dropout(0.5))\n",
    "model.add(Dense(12, activation='relu'))\n",
    "model.add(Dropout(0.2))\n",
    "model.add(Dense(12, activation='relu'))\n",
    "model.add(Dense(12, activation='relu'))\n",
    "model.add(Dense(8, activation='relu'))\n",
    "model.add(Dense(4, activation='relu'))\n",
    "model.add(Dense(1, activation ='sigmoid'))\n",
    "\n",
    "model.compile(optimizer='adam',\n",
    "              loss='binary_crossentropy',\n",
    "              metrics=['accuracy'])\n",
    "\n",
    "results = model.fit(X_pure_train, y_pure_train, epochs=50,\n",
    "                    batch_size= 32, verbose=0,\n",
    "                    validation_data=(X_val, y_val))\n",
    "\n",
    "train_loss = results.history['loss']\n",
    "train_acc = results.history['accuracy']\n",
    "val_loss = results.history['val_loss']\n",
    "val_acc = results.history['val_accuracy']\n",
    "\n",
    "\n",
    "fig, (ax1, ax2) = plt.subplots(1, 2, figsize=(10, 5))\n",
    "sns.lineplot(x=results.epoch, y=train_loss, ax=ax1, label='train_loss')\n",
    "sns.lineplot(x=results.epoch, y=train_acc, ax=ax2, label='train_accuracy')\n",
    "\n",
    "sns.lineplot(x=results.epoch, y=val_loss, ax=ax1, label='val_loss')\n",
    "sns.lineplot(x=results.epoch, y=val_acc, ax=ax2, label='val_accuracy');</code>\n",
    "</details>"
   ]
  },
  {
   "cell_type": "code",
   "execution_count": 33,
   "metadata": {},
   "outputs": [
    {
     "data": {
      "text/plain": [
       "0.9756944179534912"
      ]
     },
     "execution_count": 33,
     "metadata": {},
     "output_type": "execute_result"
    }
   ],
   "source": [
    "results.history['val_accuracy'][-1]"
   ]
  },
  {
   "cell_type": "markdown",
   "metadata": {},
   "source": [
    "### Early Stopping"
   ]
  },
  {
   "cell_type": "markdown",
   "metadata": {},
   "source": [
    "We can also tell our neural network to stop once it stops realizing any gain.\n",
    "\n",
    "Here we tell it to stop once the a very small positive change in the validation loss occurs:"
   ]
  },
  {
   "cell_type": "code",
   "execution_count": 34,
   "metadata": {},
   "outputs": [
    {
     "name": "stdout",
     "output_type": "stream",
     "text": [
      "Epoch 00013: early stopping\n"
     ]
    },
    {
     "data": {
      "image/png": "[encoded data removed]",
      "text/plain": [
       "<Figure size 720x360 with 2 Axes>"
      ]
     },
     "metadata": {
      "needs_background": "light"
     },
     "output_type": "display_data"
    }
   ],
   "source": [
    "model = Sequential()\n",
    "model.add(Dense(30, activation='relu', input_dim=64))\n",
    "model.add(Dense(20, activation='relu'))\n",
    "model.add(Dropout(0.5))\n",
    "model.add(Dense(12, activation='relu'))\n",
    "model.add(Dense(12, activation='relu'))\n",
    "model.add(Dense(12, activation='relu'))\n",
    "model.add(Dense(8, activation='relu'))\n",
    "model.add(Dense(4, activation='relu'))\n",
    "model.add(Dense(1, activation ='sigmoid'))\n",
    "\n",
    "model.compile(optimizer='adam',\n",
    "              loss='binary_crossentropy',\n",
    "              metrics=['accuracy'])\n",
    "\n",
    "# Define the EarlyStopping object\n",
    "early_stop = EarlyStopping(monitor='val_loss', min_delta=1e-8,\n",
    "                           verbose=1,\n",
    "                           mode='min')\n",
    "\n",
    "# Place this in a list as the value of the `callbacks` parameter\n",
    "# in the `.fit()` method.\n",
    "results = model.fit(X_pure_train, y_pure_train,\n",
    "                    epochs=20, batch_size=32,\n",
    "                    verbose=0, validation_data=(X_val, y_val),\n",
    "                    callbacks=[early_stop])\n",
    "\n",
    "train_loss = results.history['loss']\n",
    "train_acc = results.history['accuracy']\n",
    "val_loss = results.history['val_loss']\n",
    "val_acc = results.history['val_accuracy']\n",
    "\n",
    "\n",
    "fig, (ax1, ax2) = plt.subplots(1, 2, figsize=(10, 5))\n",
    "sns.lineplot(x=results.epoch, y=train_loss, ax=ax1, label='train_loss')\n",
    "sns.lineplot(x=results.epoch, y=train_acc, ax=ax2, label='train_accuracy')\n",
    "\n",
    "sns.lineplot(x=results.epoch, y=val_loss, ax=ax1, label='val_loss')\n",
    "sns.lineplot(x=results.epoch, y=val_acc, ax=ax2, label='val_accuracy');"
   ]
  },
  {
   "cell_type": "markdown",
   "metadata": {},
   "source": [
    "### Exercise\n",
    "\n",
    "That probably stopped too early. We can specify the number of epochs in which it doesn't see decrease in the loss with the `patience` parameter. Modify the code below to include an Early Stop with a patience of 5 epochs."
   ]
  },
  {
   "cell_type": "code",
   "execution_count": 35,
   "metadata": {},
   "outputs": [
    {
     "name": "stdout",
     "output_type": "stream",
     "text": [
      "Epoch 00045: early stopping\n"
     ]
    },
    {
     "data": {
      "image/png": "[encoded data removed]",
      "text/plain": [
       "<Figure size 720x360 with 2 Axes>"
      ]
     },
     "metadata": {
      "needs_background": "light"
     },
     "output_type": "display_data"
    }
   ],
   "source": [
    "model = Sequential()\n",
    "model.add(Dense(30, activation='relu', input_dim=64))\n",
    "model.add(Dense(20, activation='relu'))\n",
    "model.add(Dropout(0.5))\n",
    "model.add(Dense(12, activation='relu'))\n",
    "model.add(Dense(12, activation='relu'))\n",
    "model.add(Dense(12, activation='relu'))\n",
    "model.add(Dense(8, activation='relu'))\n",
    "model.add(Dense(4, activation='relu'))\n",
    "model.add(Dense(1, activation ='sigmoid'))\n",
    "\n",
    "model.compile(optimizer='adam',\n",
    "              loss='binary_crossentropy',\n",
    "              metrics=['accuracy'])\n",
    "\n",
    "# Define the EarlyStopping object\n",
    "early_stop = EarlyStopping(monitor='val_loss', min_delta=1e-8,\n",
    "                           verbose=1, patience=5,\n",
    "                           mode='min')\n",
    "\n",
    "# Place this in a list as the value of the `callbacks` parameter\n",
    "# in the `.fit()` method.\n",
    "results = model.fit(X_pure_train, y_pure_train,\n",
    "                    epochs=50, batch_size= 32,\n",
    "                    verbose=0, validation_data=(X_val, y_val),\n",
    "                    callbacks=[early_stop])\n",
    "\n",
    "train_loss = results.history['loss']\n",
    "train_acc = results.history['accuracy']\n",
    "val_loss = results.history['val_loss']\n",
    "val_acc = results.history['val_accuracy']\n",
    "\n",
    "\n",
    "fig, (ax1, ax2) = plt.subplots(1, 2, figsize=(10, 5))\n",
    "sns.lineplot(x=results.epoch, y=train_loss, ax=ax1, label='train_loss')\n",
    "sns.lineplot(x=results.epoch, y=train_acc, ax=ax2, label='train_accuracy')\n",
    "\n",
    "sns.lineplot(x=results.epoch, y=val_loss, ax=ax1, label='val_loss')\n",
    "sns.lineplot(x=results.epoch, y=val_acc, ax=ax2, label='val_accuracy');"
   ]
  },
  {
   "cell_type": "markdown",
   "metadata": {},
   "source": [
    "<details>\n",
    "    <summary>One answer here</summary>\n",
    "<code>model = Sequential()\n",
    "model.add(Dense(30, activation='relu', input_dim=64))\n",
    "model.add(Dense(20, activation='relu'))\n",
    "model.add(Dropout(0.5))\n",
    "model.add(Dense(12, activation='relu'))\n",
    "model.add(Dense(12, activation='relu'))\n",
    "model.add(Dense(12, activation='relu'))\n",
    "model.add(Dense(8, activation='relu'))\n",
    "model.add(Dense(4, activation='relu'))\n",
    "model.add(Dense(1, activation ='sigmoid'))\n",
    "\n",
    "model.compile(optimizer='adam',\n",
    "              loss='binary_crossentropy',\n",
    "              metrics=['accuracy'])\n",
    "\n",
    "# Define the EarlyStopping object\n",
    "\n",
    "\n",
    "\n",
    "# Place this in a list as the value of the `callbacks` parameter\n",
    "# in the `.fit()` method.\n",
    "results = model.fit(X_pure_train, y_pure_train,\n",
    "                    epochs=50, batch_size= 32,\n",
    "                    verbose=0, validation_data=(X_val, y_val),\n",
    "                    callbacks=[early_stop])\n",
    "\n",
    "train_loss = results.history['loss']\n",
    "train_acc = results.history['accuracy']\n",
    "val_loss = results.history['val_loss']\n",
    "val_acc = results.history['val_accuracy']\n",
    "\n",
    "\n",
    "fig, (ax1, ax2) = plt.subplots(1, 2, figsize=(10, 5))\n",
    "sns.lineplot(x=results.epoch, y=train_loss, ax=ax1, label='train_loss')\n",
    "sns.lineplot(x=results.epoch, y=train_acc, ax=ax2, label='train_accuracy')\n",
    "\n",
    "sns.lineplot(x=results.epoch, y=val_loss, ax=ax1, label='val_loss')\n",
    "sns.lineplot(x=results.epoch, y=val_acc, ax=ax2, label='val_accuracy');</code>\n",
    "</details>"
   ]
  },
  {
   "cell_type": "code",
   "execution_count": 36,
   "metadata": {},
   "outputs": [
    {
     "data": {
      "text/plain": [
       "0.9791666865348816"
      ]
     },
     "execution_count": 36,
     "metadata": {},
     "output_type": "execute_result"
    }
   ],
   "source": [
    "results.history['val_accuracy'][-1]"
   ]
  },
  {
   "cell_type": "markdown",
   "metadata": {},
   "source": [
    "## Multiclass Classification and Softmax"
   ]
  },
  {
   "cell_type": "markdown",
   "metadata": {},
   "source": [
    "Now let's return to the problem of predicting digits 0 through 9."
   ]
  },
  {
   "cell_type": "code",
   "execution_count": 37,
   "metadata": {},
   "outputs": [],
   "source": [
    "digits = load_digits()\n",
    "X = digits.data\n",
    "y = digits.target"
   ]
  },
  {
   "cell_type": "code",
   "execution_count": 38,
   "metadata": {},
   "outputs": [],
   "source": [
    "X_train, X_test, y_train, y_test = train_test_split(X, y,\n",
    "                                                    random_state=42,\n",
    "                                                    test_size=0.2)\n",
    "X_pure_train, X_val, y_pure_train, y_val =\\\n",
    "    train_test_split(X_train, y_train,\n",
    "                     random_state=42, test_size=0.2)\n",
    "X_pure_train, X_val, X_test = X_pure_train/16, X_val/16, X_test/16"
   ]
  },
  {
   "cell_type": "markdown",
   "metadata": {},
   "source": [
    "For a multiclass output, our neural net expects our target to be in a certain form."
   ]
  },
  {
   "cell_type": "code",
   "execution_count": 39,
   "metadata": {},
   "outputs": [],
   "source": [
    "ohe = OneHotEncoder(sparse=False)\n",
    "y_pure_train = ohe.fit_transform(y_pure_train.reshape(-1,1))\n",
    "y_val = ohe.transform(y_val.reshape(-1,1))\n",
    "y_test = ohe.transform(y_test.reshape(-1,1))"
   ]
  },
  {
   "cell_type": "code",
   "execution_count": 40,
   "metadata": {},
   "outputs": [
    {
     "data": {
      "text/plain": [
       "array([[0., 0., 0., ..., 0., 0., 0.],\n",
       "       [0., 0., 0., ..., 0., 0., 1.],\n",
       "       [0., 0., 0., ..., 0., 0., 0.],\n",
       "       ...,\n",
       "       [0., 0., 0., ..., 0., 1., 0.],\n",
       "       [0., 0., 0., ..., 0., 0., 0.],\n",
       "       [0., 0., 0., ..., 0., 0., 0.]])"
      ]
     },
     "execution_count": 40,
     "metadata": {},
     "output_type": "execute_result"
    }
   ],
   "source": [
    "y_test"
   ]
  },
  {
   "cell_type": "code",
   "execution_count": 42,
   "metadata": {},
   "outputs": [
    {
     "name": "stdout",
     "output_type": "stream",
     "text": [
      "Epoch 1/50\n",
      "115/115 [==============================] - 0s 2ms/step - loss: 2.2472 - accuracy: 0.1688 - val_loss: 2.1507 - val_accuracy: 0.2118\n",
      "Epoch 2/50\n",
      "115/115 [==============================] - 0s 1ms/step - loss: 2.0068 - accuracy: 0.2811 - val_loss: 1.7813 - val_accuracy: 0.3507\n",
      "Epoch 3/50\n",
      "115/115 [==============================] - 0s 992us/step - loss: 1.6265 - accuracy: 0.3681 - val_loss: 1.4356 - val_accuracy: 0.5243\n",
      "Epoch 4/50\n",
      "115/115 [==============================] - 0s 1ms/step - loss: 1.3257 - accuracy: 0.6162 - val_loss: 1.1927 - val_accuracy: 0.6736\n",
      "Epoch 5/50\n",
      "115/115 [==============================] - 0s 1ms/step - loss: 1.0937 - accuracy: 0.7076 - val_loss: 1.0091 - val_accuracy: 0.7604\n",
      "Epoch 6/50\n",
      "115/115 [==============================] - 0s 1ms/step - loss: 0.9081 - accuracy: 0.7850 - val_loss: 0.8444 - val_accuracy: 0.7917\n",
      "Epoch 7/50\n",
      "115/115 [==============================] - 0s 981us/step - loss: 0.7567 - accuracy: 0.8129 - val_loss: 0.7114 - val_accuracy: 0.8299\n",
      "Epoch 8/50\n",
      "115/115 [==============================] - 0s 1ms/step - loss: 0.6258 - accuracy: 0.8338 - val_loss: 0.6139 - val_accuracy: 0.8403\n",
      "Epoch 9/50\n",
      "115/115 [==============================] - 0s 1ms/step - loss: 0.5294 - accuracy: 0.8590 - val_loss: 0.5373 - val_accuracy: 0.8611\n",
      "Epoch 10/50\n",
      "115/115 [==============================] - 0s 1ms/step - loss: 0.4515 - accuracy: 0.8808 - val_loss: 0.4726 - val_accuracy: 0.8750\n",
      "Epoch 11/50\n",
      "115/115 [==============================] - 0s 1ms/step - loss: 0.4005 - accuracy: 0.8921 - val_loss: 0.4252 - val_accuracy: 0.8785\n",
      "Epoch 12/50\n",
      "115/115 [==============================] - 0s 1ms/step - loss: 0.3677 - accuracy: 0.8912 - val_loss: 0.3997 - val_accuracy: 0.8889\n",
      "Epoch 13/50\n",
      "115/115 [==============================] - 0s 1ms/step - loss: 0.3318 - accuracy: 0.9025 - val_loss: 0.3799 - val_accuracy: 0.8993\n",
      "Epoch 14/50\n",
      "115/115 [==============================] - 0s 956us/step - loss: 0.3126 - accuracy: 0.9051 - val_loss: 0.3362 - val_accuracy: 0.8958\n",
      "Epoch 15/50\n",
      "115/115 [==============================] - 0s 1ms/step - loss: 0.2893 - accuracy: 0.9147 - val_loss: 0.3205 - val_accuracy: 0.8854\n",
      "Epoch 16/50\n",
      "115/115 [==============================] - 0s 1ms/step - loss: 0.2736 - accuracy: 0.9182 - val_loss: 0.3008 - val_accuracy: 0.9028\n",
      "Epoch 17/50\n",
      "115/115 [==============================] - 0s 1ms/step - loss: 0.2540 - accuracy: 0.9278 - val_loss: 0.2987 - val_accuracy: 0.9062\n",
      "Epoch 18/50\n",
      "115/115 [==============================] - 0s 1ms/step - loss: 0.2425 - accuracy: 0.9295 - val_loss: 0.2936 - val_accuracy: 0.9097\n",
      "Epoch 19/50\n",
      "115/115 [==============================] - 0s 1ms/step - loss: 0.2283 - accuracy: 0.9356 - val_loss: 0.2621 - val_accuracy: 0.9167\n",
      "Epoch 20/50\n",
      "115/115 [==============================] - 0s 1ms/step - loss: 0.2159 - accuracy: 0.9408 - val_loss: 0.2591 - val_accuracy: 0.9201\n",
      "Epoch 21/50\n",
      "115/115 [==============================] - 0s 1ms/step - loss: 0.2054 - accuracy: 0.9382 - val_loss: 0.2382 - val_accuracy: 0.9167\n",
      "Epoch 22/50\n",
      "115/115 [==============================] - 0s 1ms/step - loss: 0.1979 - accuracy: 0.9417 - val_loss: 0.2264 - val_accuracy: 0.9236\n",
      "Epoch 23/50\n",
      "115/115 [==============================] - 0s 1ms/step - loss: 0.1881 - accuracy: 0.9478 - val_loss: 0.2235 - val_accuracy: 0.9306\n",
      "Epoch 24/50\n",
      "115/115 [==============================] - 0s 1ms/step - loss: 0.1820 - accuracy: 0.9478 - val_loss: 0.2184 - val_accuracy: 0.9167\n",
      "Epoch 25/50\n",
      "115/115 [==============================] - 0s 1ms/step - loss: 0.1718 - accuracy: 0.9495 - val_loss: 0.2179 - val_accuracy: 0.9201\n",
      "Epoch 26/50\n",
      "115/115 [==============================] - 0s 1ms/step - loss: 0.1666 - accuracy: 0.9521 - val_loss: 0.2003 - val_accuracy: 0.9271\n",
      "Epoch 27/50\n",
      "115/115 [==============================] - 0s 1ms/step - loss: 0.1603 - accuracy: 0.9556 - val_loss: 0.1951 - val_accuracy: 0.9375\n",
      "Epoch 28/50\n",
      "115/115 [==============================] - 0s 1ms/step - loss: 0.1529 - accuracy: 0.9574 - val_loss: 0.1903 - val_accuracy: 0.9375\n",
      "Epoch 29/50\n",
      "115/115 [==============================] - 0s 1ms/step - loss: 0.1489 - accuracy: 0.9600 - val_loss: 0.1845 - val_accuracy: 0.9375\n",
      "Epoch 30/50\n",
      "115/115 [==============================] - 0s 1ms/step - loss: 0.1417 - accuracy: 0.9626 - val_loss: 0.1882 - val_accuracy: 0.9340\n",
      "Epoch 31/50\n",
      "115/115 [==============================] - 0s 1ms/step - loss: 0.1363 - accuracy: 0.9652 - val_loss: 0.1770 - val_accuracy: 0.9340\n",
      "Epoch 32/50\n",
      "115/115 [==============================] - 0s 1ms/step - loss: 0.1296 - accuracy: 0.9669 - val_loss: 0.1912 - val_accuracy: 0.9444\n",
      "Epoch 33/50\n",
      "115/115 [==============================] - 0s 1ms/step - loss: 0.1289 - accuracy: 0.9626 - val_loss: 0.1612 - val_accuracy: 0.9444\n",
      "Epoch 34/50\n",
      "115/115 [==============================] - 0s 1ms/step - loss: 0.1243 - accuracy: 0.9678 - val_loss: 0.1668 - val_accuracy: 0.9444\n",
      "Epoch 35/50\n",
      "115/115 [==============================] - 0s 1ms/step - loss: 0.1195 - accuracy: 0.9687 - val_loss: 0.1644 - val_accuracy: 0.9514\n",
      "Epoch 36/50\n",
      "115/115 [==============================] - 0s 1ms/step - loss: 0.1161 - accuracy: 0.9678 - val_loss: 0.1617 - val_accuracy: 0.9479\n",
      "Epoch 37/50\n",
      "115/115 [==============================] - 0s 962us/step - loss: 0.1118 - accuracy: 0.9713 - val_loss: 0.1528 - val_accuracy: 0.9410\n",
      "Epoch 38/50\n",
      "115/115 [==============================] - 0s 1ms/step - loss: 0.1073 - accuracy: 0.9704 - val_loss: 0.1590 - val_accuracy: 0.9514\n",
      "Epoch 39/50\n",
      "115/115 [==============================] - 0s 1ms/step - loss: 0.1050 - accuracy: 0.9748 - val_loss: 0.1445 - val_accuracy: 0.9479\n",
      "Epoch 40/50\n",
      "115/115 [==============================] - 0s 1ms/step - loss: 0.1010 - accuracy: 0.9756 - val_loss: 0.1606 - val_accuracy: 0.9410\n",
      "Epoch 41/50\n",
      "115/115 [==============================] - 0s 966us/step - loss: 0.0981 - accuracy: 0.9765 - val_loss: 0.1673 - val_accuracy: 0.9514\n",
      "Epoch 42/50\n",
      "115/115 [==============================] - 0s 969us/step - loss: 0.0950 - accuracy: 0.9774 - val_loss: 0.1445 - val_accuracy: 0.9514\n",
      "Epoch 43/50\n",
      "115/115 [==============================] - 0s 978us/step - loss: 0.0914 - accuracy: 0.9782 - val_loss: 0.1640 - val_accuracy: 0.9375\n",
      "Epoch 44/50\n",
      "115/115 [==============================] - 0s 990us/step - loss: 0.0909 - accuracy: 0.9756 - val_loss: 0.1501 - val_accuracy: 0.9444\n",
      "Epoch 45/50\n",
      "115/115 [==============================] - 0s 1ms/step - loss: 0.0871 - accuracy: 0.9800 - val_loss: 0.1423 - val_accuracy: 0.9410\n",
      "Epoch 46/50\n",
      "115/115 [==============================] - 0s 981us/step - loss: 0.0838 - accuracy: 0.9809 - val_loss: 0.1446 - val_accuracy: 0.9479\n",
      "Epoch 47/50\n",
      "115/115 [==============================] - 0s 1ms/step - loss: 0.0849 - accuracy: 0.9800 - val_loss: 0.1286 - val_accuracy: 0.9514\n",
      "Epoch 48/50\n",
      "115/115 [==============================] - 0s 1ms/step - loss: 0.0789 - accuracy: 0.9852 - val_loss: 0.1420 - val_accuracy: 0.9583\n",
      "Epoch 49/50\n",
      "115/115 [==============================] - 0s 1ms/step - loss: 0.0756 - accuracy: 0.9843 - val_loss: 0.1370 - val_accuracy: 0.9549\n",
      "Epoch 50/50\n",
      "115/115 [==============================] - 0s 952us/step - loss: 0.0761 - accuracy: 0.9843 - val_loss: 0.1215 - val_accuracy: 0.9583\n"
     ]
    }
   ],
   "source": [
    "# Model from above, but now with ten output neurons:\n",
    "\n",
    "model = Sequential()\n",
    "model.add(Dense(12, activation='relu', input_dim=64))\n",
    "model.add(Dense(8, activation='relu'))\n",
    "# Final layer will look different need a node for each class\n",
    "model.add(Dense(10, activation='softmax'))\n",
    "\n",
    "model.compile(optimizer='adam',\n",
    "              loss='categorical_crossentropy',\n",
    "              metrics=['accuracy'])\n",
    "\n",
    "results = model.fit(X_pure_train, y_pure_train,\n",
    "                   epochs=50, batch_size=10,\n",
    "                   validation_data=(X_val, y_val))"
   ]
  },
  {
   "cell_type": "markdown",
   "metadata": {},
   "source": [
    "$$\\large \\text{Softmax}(x_{i}) = \\frac{\\exp(x_i)}{\\sum_j \\exp(x_j)}$$\n",
    "\n",
    "The sofmax function outputs a number between 0 and 1 for each of our classes.  All of the probabilities of the classes sum up to 1.\n",
    "\n",
    "The number of nodes in our output layer equals the number of categories in our dataset.\n",
    "\n",
    "We also need a new loss function: **categorical crossentropy**, which calculates a separate loss for each label and then sums the results."
   ]
  },
  {
   "cell_type": "code",
   "execution_count": 43,
   "metadata": {},
   "outputs": [],
   "source": [
    "history = results.history\n",
    "training_loss = history['loss']\n",
    "val_loss = history['val_loss']\n",
    "training_accuracy = history['accuracy']\n",
    "val_accuracy = history['val_accuracy']"
   ]
  },
  {
   "cell_type": "code",
   "execution_count": 44,
   "metadata": {},
   "outputs": [
    {
     "data": {
      "image/png": "[encoded data removed]",
      "text/plain": [
       "<Figure size 1080x360 with 2 Axes>"
      ]
     },
     "metadata": {
      "needs_background": "light"
     },
     "output_type": "display_data"
    }
   ],
   "source": [
    "fig, (ax1,ax2) = plt.subplots(1,2,figsize=(15,5))\n",
    "\n",
    "\n",
    "sns.lineplot(x=list(range(len(training_loss))),\n",
    "             y=training_loss, color='r', label='training', ax=ax1)\n",
    "sns.lineplot(x=list(range(len(val_loss))),\n",
    "             y=val_loss, color='b', label='validation', ax=ax1)\n",
    "sns.lineplot(x=list(range(len(training_loss))),\n",
    "             y=training_accuracy, color='r', label='training',ax=ax2)\n",
    "sns.lineplot(x=list(range(len(val_loss))),\n",
    "             y=val_accuracy, color='b', label='validation',ax=ax2)\n",
    "ax1.legend();"
   ]
  },
  {
   "cell_type": "code",
   "execution_count": 45,
   "metadata": {},
   "outputs": [
    {
     "data": {
      "text/plain": [
       "array([[2.1671187e-03, 7.8918587e-05, 2.2082787e-08, ..., 1.4864663e-13,\n",
       "        8.2863797e-04, 2.8034449e-07],\n",
       "       [3.3457934e-06, 2.0659212e-05, 4.9101662e-10, ..., 5.5641630e-07,\n",
       "        7.4608334e-07, 9.2504686e-01],\n",
       "       [1.2018569e-13, 2.7366108e-05, 6.0620896e-06, ..., 2.6326522e-10,\n",
       "        1.3782987e-07, 2.4259403e-04],\n",
       "       ...,\n",
       "       [2.0423466e-04, 2.7235523e-03, 1.1912556e-05, ..., 2.9064526e-04,\n",
       "        9.9383610e-01, 1.2619251e-03],\n",
       "       [4.5967590e-07, 2.1132244e-02, 5.2535310e-03, ..., 4.1750892e-10,\n",
       "        1.2800472e-02, 3.3403732e-02],\n",
       "       [4.5914867e-06, 6.0258422e-08, 7.6444610e-07, ..., 4.4291948e-10,\n",
       "        1.7735324e-07, 9.9076293e-03]], dtype=float32)"
      ]
     },
     "execution_count": 45,
     "metadata": {},
     "output_type": "execute_result"
    }
   ],
   "source": [
    "model.predict(X_test)"
   ]
  },
  {
   "cell_type": "code",
   "execution_count": 46,
   "metadata": {},
   "outputs": [
    {
     "data": {
      "text/plain": [
       "array([2.1671187e-03, 7.8918587e-05, 2.2082787e-08, 2.3373987e-07,\n",
       "       5.7656420e-05, 6.7966648e-05, 9.9679911e-01, 1.4864663e-13,\n",
       "       8.2863797e-04, 2.8034449e-07], dtype=float32)"
      ]
     },
     "execution_count": 46,
     "metadata": {},
     "output_type": "execute_result"
    }
   ],
   "source": [
    "model.predict(X_test)[0]"
   ]
  },
  {
   "cell_type": "code",
   "execution_count": 47,
   "metadata": {},
   "outputs": [
    {
     "data": {
      "text/plain": [
       "10"
      ]
     },
     "execution_count": 47,
     "metadata": {},
     "output_type": "execute_result"
    }
   ],
   "source": [
    "len(model.predict(X_test)[0])"
   ]
  },
  {
   "cell_type": "code",
   "execution_count": 48,
   "metadata": {},
   "outputs": [
    {
     "data": {
      "text/plain": [
       "1.0"
      ]
     },
     "execution_count": 48,
     "metadata": {},
     "output_type": "execute_result"
    }
   ],
   "source": [
    "model.predict(X_test)[0].sum()"
   ]
  },
  {
   "cell_type": "code",
   "execution_count": 53,
   "metadata": {},
   "outputs": [],
   "source": [
    "y_hat_test = np.argmax(model.predict(X_test), axis=1)"
   ]
  },
  {
   "cell_type": "code",
   "execution_count": 54,
   "metadata": {},
   "outputs": [
    {
     "data": {
      "text/plain": [
       "array([6, 9, 3, 7, 2, 1, 5, 2, 5, 3, 1, 9, 4, 0, 4, 2, 3, 7, 8, 8, 4, 3,\n",
       "       9, 7, 5, 6, 3, 5, 6, 3, 4, 9, 1, 4, 4, 6, 9, 4, 7, 6, 6, 9, 1, 3,\n",
       "       6, 1, 3, 0, 6, 5, 5, 1, 3, 5, 6, 0, 3, 0, 0, 1, 5, 4, 5, 2, 4, 5,\n",
       "       7, 0, 7, 5, 9, 5, 5, 4, 7, 0, 4, 5, 5, 9, 9, 0, 2, 3, 8, 0, 6, 4,\n",
       "       4, 9, 1, 2, 8, 3, 5, 2, 9, 4, 4, 4, 4, 3, 5, 3, 1, 3, 5, 9, 4, 2,\n",
       "       7, 7, 4, 4, 1, 9, 8, 7, 9, 7, 2, 6, 9, 4, 0, 7, 2, 7, 5, 8, 7, 5,\n",
       "       7, 5, 0, 6, 6, 4, 2, 8, 0, 9, 4, 6, 9, 9, 6, 9, 0, 9, 5, 6, 6, 0,\n",
       "       6, 4, 3, 9, 3, 9, 7, 2, 9, 0, 4, 5, 3, 6, 5, 9, 9, 8, 4, 2, 1, 3,\n",
       "       7, 7, 2, 2, 3, 9, 8, 0, 3, 2, 2, 5, 6, 9, 9, 4, 1, 5, 4, 2, 3, 6,\n",
       "       4, 8, 5, 9, 5, 7, 1, 9, 4, 8, 1, 5, 4, 4, 9, 6, 1, 8, 6, 0, 4, 5,\n",
       "       2, 7, 4, 6, 4, 5, 6, 0, 3, 2, 3, 6, 7, 1, 5, 1, 4, 7, 6, 9, 8, 5,\n",
       "       5, 1, 0, 8, 8, 8, 9, 9, 7, 6, 2, 2, 2, 3, 4, 8, 8, 3, 6, 0, 3, 7,\n",
       "       7, 0, 1, 0, 4, 5, 8, 5, 3, 6, 0, 4, 1, 0, 0, 3, 6, 5, 9, 7, 3, 5,\n",
       "       5, 9, 9, 4, 5, 3, 3, 8, 0, 5, 8, 3, 4, 0, 2, 4, 6, 4, 3, 4, 5, 0,\n",
       "       5, 2, 1, 3, 1, 4, 1, 1, 7, 0, 1, 5, 8, 1, 2, 8, 7, 0, 6, 4, 8, 8,\n",
       "       5, 1, 8, 4, 5, 8, 7, 9, 8, 5, 0, 6, 2, 0, 7, 9, 1, 9, 5, 2, 7, 7,\n",
       "       9, 8, 7, 4, 3, 8, 3, 5])"
      ]
     },
     "execution_count": 54,
     "metadata": {},
     "output_type": "execute_result"
    }
   ],
   "source": [
    "y_hat_test"
   ]
  },
  {
   "cell_type": "code",
   "execution_count": 55,
   "metadata": {},
   "outputs": [
    {
     "data": {
      "text/plain": [
       "array([[31,  0,  0,  0,  1,  1,  0,  0,  0,  0],\n",
       "       [ 0, 26,  0,  0,  0,  0,  0,  0,  1,  1],\n",
       "       [ 0,  0, 28,  1,  0,  0,  0,  0,  4,  0],\n",
       "       [ 0,  0,  0, 33,  0,  0,  0,  0,  0,  1],\n",
       "       [ 0,  0,  0,  0, 46,  0,  0,  0,  0,  0],\n",
       "       [ 0,  0,  0,  0,  0, 47,  0,  0,  0,  0],\n",
       "       [ 1,  0,  0,  0,  0,  0, 34,  0,  0,  0],\n",
       "       [ 0,  0,  0,  0,  0,  1,  0, 33,  0,  0],\n",
       "       [ 0,  2,  0,  0,  1,  0,  0,  0, 25,  2],\n",
       "       [ 0,  0,  0,  3,  0,  0,  0,  0,  0, 37]])"
      ]
     },
     "execution_count": 55,
     "metadata": {},
     "output_type": "execute_result"
    }
   ],
   "source": [
    "y_test_restore = ohe.inverse_transform(y_test)\n",
    "confusion_matrix(y_test_restore, y_hat_test)"
   ]
  },
  {
   "cell_type": "code",
   "execution_count": 56,
   "metadata": {},
   "outputs": [
    {
     "data": {
      "text/plain": [
       "0.9387388591800357"
      ]
     },
     "execution_count": 56,
     "metadata": {},
     "output_type": "execute_result"
    }
   ],
   "source": [
    "from sklearn.metrics import recall_score\n",
    "recall_score(y_test_restore, y_hat_test, average='macro')"
   ]
  },
  {
   "cell_type": "markdown",
   "metadata": {},
   "source": [
    "Wow, look at that performance!  \n",
    "\n",
    "That is great, but remember, we were dealing with simple black and white images.  With color, our basic neural net will have less success.\n",
    "\n"
   ]
  }
 ],
 "metadata": {
  "celltoolbar": "Raw Cell Format",
  "colab": {
   "collapsed_sections": [],
   "name": "intro-to-keras.ipynb",
   "provenance": []
  },
  "kernelspec": {
   "display_name": "Python (learn-env)",
   "language": "python",
   "name": "learn-env"
  },
  "language_info": {
   "codemirror_mode": {
    "name": "ipython",
    "version": 3
   },
   "file_extension": ".py",
   "mimetype": "text/x-python",
   "name": "python",
   "nbconvert_exporter": "python",
   "pygments_lexer": "ipython3",
   "version": "3.8.5"
  }
 },
 "nbformat": 4,
 "nbformat_minor": 4
}
